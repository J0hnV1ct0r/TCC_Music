{
 "cells": [
  {
   "cell_type": "markdown",
   "metadata": {},
   "source": [
    "Esse Notebook será dedicado a experimentar como os modelos classicos aprendem com os dados youtube e spotify.\n",
    "\n",
    "* Primeiro será feito um teste com os modelos sem nenhum ajuste previo para entender como tão prevendo os dados em primeiro momento.\n",
    "\n",
    "* Em segundo momento será testado como a idade dos dados ta afetenado previsão do modelo em 3 diferentes faixas de tempo.\n",
    "\n",
    "* Retirar os outliers e ver como o modelo padrão de menor erro se comporta"
   ]
  },
  {
   "cell_type": "markdown",
   "metadata": {},
   "source": [
    "possiveis melhorias:\n",
    "*   tirar os outliers de engajamento\n",
    "*   utilizar tecnicas como SMOTE para aumentar o numero de musicas com ate 30 dias\n",
    "*   tirar outliers"
   ]
  },
  {
   "cell_type": "markdown",
   "metadata": {},
   "source": [
    "Descobertas:\n",
    "* Utilizar apenas musicas recentes não garante que vamos ter resultados melhores, portanto pode usar todas as musicas\n",
    "* Musicas com mais dias são mais faceis de prever\n",
    "* Retirar os outliers não trouxe grande melhoria\n",
    "* Conforme vai ficando maior a idade dos videos mais preciso fica a regressão\n",
    "* Se retirar os outliers do conjunto de treinamento o numero de streams ajuda na predição"
   ]
  },
  {
   "cell_type": "code",
   "execution_count": 1,
   "metadata": {},
   "outputs": [],
   "source": [
    "import pandas as pd\n",
    "from sklearn.model_selection import train_test_split\n",
    "from sklearn.metrics import mean_squared_error\n",
    "import numpy as np\n",
    "import matplotlib.pyplot as plt\n",
    "import seaborn as sns"
   ]
  },
  {
   "cell_type": "code",
   "execution_count": 2,
   "metadata": {},
   "outputs": [],
   "source": [
    "from sklearn.linear_model import  LinearRegression\n",
    "from sklearn.ensemble import RandomForestRegressor\n",
    "from sklearn.neural_network import MLPRegressor\n",
    "import xgboost as xgb"
   ]
  },
  {
   "cell_type": "code",
   "execution_count": 3,
   "metadata": {},
   "outputs": [],
   "source": [
    "# ruff: noqa: E402\n",
    "import math\n",
    "import warnings\n",
    "from typing import Dict, Literal\n",
    "\n",
    "warnings.simplefilter(\"ignore\")\n",
    "import delu  # Deep Learning Utilities: https://github.com/Yura52/delu\n",
    "import numpy as np\n",
    "import scipy.special\n",
    "import sklearn.datasets\n",
    "import sklearn.metrics\n",
    "import sklearn.model_selection\n",
    "import sklearn.preprocessing\n",
    "import torch\n",
    "import torch.nn.functional as F\n",
    "import torch.optim\n",
    "from torch import Tensor\n",
    "from tqdm.std import tqdm\n",
    "\n",
    "warnings.resetwarnings()\n",
    "\n",
    "from rtdl_revisiting_models import MLP, ResNet, FTTransformer"
   ]
  },
  {
   "cell_type": "code",
   "execution_count": 4,
   "metadata": {},
   "outputs": [
    {
     "data": {
      "text/plain": [
       "0"
      ]
     },
     "execution_count": 4,
     "metadata": {},
     "output_type": "execute_result"
    }
   ],
   "source": [
    "device = torch.device(\"cuda\" if torch.cuda.is_available() else \"cpu\")\n",
    "# Set random seeds in all libraries.\n",
    "delu.random.seed(0)"
   ]
  },
  {
   "cell_type": "markdown",
   "metadata": {},
   "source": [
    "# Tratamento dos dados"
   ]
  },
  {
   "cell_type": "code",
   "execution_count": 5,
   "metadata": {},
   "outputs": [],
   "source": [
    "spotify_youtube_pt1 = pd.read_csv(\"Dados/spotify_youtube_up_pt1.csv\")\n",
    "spotify_youtube_pt2 = pd.read_csv(\"Dados/spotify_youtube_up_pt2.csv\")"
   ]
  },
  {
   "cell_type": "code",
   "execution_count": 6,
   "metadata": {},
   "outputs": [],
   "source": [
    "data_extracao = pd.to_datetime(\"2023-02-07\")\n",
    "spotify_youtube_pt1[\"upload_date\"] = pd.to_datetime(spotify_youtube_pt1[\"upload_date\"])\n",
    "spotify_youtube_pt1[\"dias_na_plataforma\"] = (data_extracao - spotify_youtube_pt1[\"upload_date\"]).dt.days\n",
    "\n",
    "spotify_youtube_pt2[\"upload_date\"] = pd.to_datetime(spotify_youtube_pt2[\"upload_date\"])\n",
    "spotify_youtube_pt2[\"dias_na_plataforma\"] = (data_extracao - spotify_youtube_pt2[\"upload_date\"]).dt.days"
   ]
  },
  {
   "cell_type": "code",
   "execution_count": 7,
   "metadata": {},
   "outputs": [],
   "source": [
    "spotify_youtube = pd.concat([spotify_youtube_pt1,spotify_youtube_pt2])"
   ]
  },
  {
   "cell_type": "code",
   "execution_count": 8,
   "metadata": {},
   "outputs": [],
   "source": [
    "spotify_youtube_dummies= pd.get_dummies(spotify_youtube,columns=['Album_type'], dtype=int)"
   ]
  },
  {
   "cell_type": "code",
   "execution_count": 9,
   "metadata": {},
   "outputs": [],
   "source": [
    "spotify_youtube_dummies['artist_number'] = spotify_youtube_dummies['Artist'].str.split(',').str.len()\n",
    "spotify_youtube_dummies['engagement_rate'] = spotify_youtube_dummies.apply(lambda row: (row['Likes'] + row['Comments']) / row['Views'] * 100 if row['Views'] > 0 else 0, axis=1)"
   ]
  },
  {
   "cell_type": "code",
   "execution_count": 10,
   "metadata": {},
   "outputs": [],
   "source": [
    "columns_drop=['Unnamed: 0', 'Artist', 'Url_spotify', 'Track', 'Album', 'Uri','Url_youtube', 'Title', 'Channel', 'Views', 'Likes','Comments', 'Description', 'Licensed', 'official_video', 'upload_date','Stream']\n",
    "spotify_youtube_df=spotify_youtube_dummies.drop(columns=columns_drop)"
   ]
  },
  {
   "cell_type": "code",
   "execution_count": 11,
   "metadata": {},
   "outputs": [],
   "source": [
    "spotify_youtube_limpo=spotify_youtube_df.dropna(subset=['Danceability','Energy','Key','Loudness','Speechiness','Acousticness', 'Instrumentalness','Liveness','Valence','Tempo','Duration_ms','engagement_rate'])"
   ]
  },
  {
   "cell_type": "markdown",
   "metadata": {},
   "source": [
    "# Preparação dos dados para os experimentos"
   ]
  },
  {
   "cell_type": "code",
   "execution_count": 12,
   "metadata": {},
   "outputs": [],
   "source": [
    "youtube_30_df=spotify_youtube_limpo[spotify_youtube_limpo['dias_na_plataforma']<31]\n",
    "youtube_90_df=spotify_youtube_limpo[spotify_youtube_limpo['dias_na_plataforma']<91]\n",
    "youtube_365_df=spotify_youtube_limpo[spotify_youtube_limpo['dias_na_plataforma']<366]"
   ]
  },
  {
   "cell_type": "code",
   "execution_count": 13,
   "metadata": {},
   "outputs": [],
   "source": [
    "spotify_youtube_df_366_more = spotify_youtube_limpo.drop(youtube_365_df.index)\n",
    "spotify_youtube_df_91_365 = youtube_365_df.drop(youtube_90_df.index)\n",
    "spotify_youtube_df_31_90 = youtube_365_df.drop(youtube_30_df.index)"
   ]
  },
  {
   "cell_type": "code",
   "execution_count": 14,
   "metadata": {},
   "outputs": [
    {
     "name": "stdout",
     "output_type": "stream",
     "text": [
      "Total number of outliers in column engagement_rate: 592\n",
      "Lower limit: -0.4855731167119207, Upper limit: 2.251193229196198\n",
      "-----------------------------------------------------------\n"
     ]
    },
    {
     "data": {
      "image/png": "[encoded data removed]",
      "text/plain": [
       "<Figure size 1200x800 with 1 Axes>"
      ]
     },
     "metadata": {},
     "output_type": "display_data"
    }
   ],
   "source": [
    "def find_outliers_iqr(data, column):\n",
    "    Q1 = data[column].quantile(0.25)\n",
    "    Q3 = data[column].quantile(0.75)\n",
    "    IQR = Q3 - Q1\n",
    "\n",
    "    lower_bound = Q1 - 1.5 * IQR\n",
    "    upper_bound = Q3 + 1.5 * IQR\n",
    "\n",
    "    outliers = data[(data[column] < lower_bound) | (data[column] > upper_bound)]\n",
    "    return outliers, lower_bound, upper_bound\n",
    "\n",
    "\n",
    "columns_to_check = [\"engagement_rate\"]\n",
    "\n",
    "\n",
    "plt.figure(figsize = (12, 8))\n",
    "for i, col in enumerate(columns_to_check, 1):\n",
    "\n",
    "    outliers, lower, upper = find_outliers_iqr(spotify_youtube_df_366_more, col)\n",
    "\n",
    "   \n",
    "    normal_values = spotify_youtube_df_366_more[(spotify_youtube_df_366_more[col] >= lower) & (spotify_youtube_df_366_more[col] <= upper)]\n",
    "\n",
    "    \n",
    "    plt.subplot(1, 1, i)\n",
    "    plt.scatter(normal_values.index, normal_values[col], label = \"Normal\", alpha = 0.6, c = \"green\")\n",
    "    plt.scatter(outliers.index, outliers[col], label = \"Outlier\", alpha=0.6, c = \"red\")\n",
    "    plt.title(f\"{col} Scatterplot\")\n",
    "    plt.ylabel(col)\n",
    "    plt.legend()\n",
    "\n",
    "    \n",
    "    print(f\"Total number of outliers in column {col}: {len(outliers)}\")\n",
    "    print(f\"Lower limit: {lower}, Upper limit: {upper}\")\n",
    "    print(\"-\" * 59)\n",
    "\n",
    "plt.tight_layout()\n",
    "plt.show()"
   ]
  },
  {
   "cell_type": "code",
   "execution_count": 15,
   "metadata": {},
   "outputs": [],
   "source": [
    "youtube_30_df=youtube_30_df[youtube_30_df['engagement_rate']<9.338507725109846]\n",
    "spotify_youtube_df_31_90=spotify_youtube_df_31_90[spotify_youtube_df_31_90['engagement_rate']<4.602401258613792]\n",
    "spotify_youtube_df_91_365=spotify_youtube_df_91_365[spotify_youtube_df_91_365['engagement_rate']<4.253191569584401]\n",
    "spotify_youtube_df_366_more=spotify_youtube_df_366_more[spotify_youtube_df_366_more['engagement_rate']<2.251193229196198]"
   ]
  },
  {
   "cell_type": "code",
   "execution_count": 16,
   "metadata": {},
   "outputs": [],
   "source": [
    "youtube_30_df_x = youtube_30_df.drop('engagement_rate',axis=1)\n",
    "youtube_30_df_y = youtube_30_df['engagement_rate']\n",
    "\n",
    "spotify_youtube_df_31_90_x = spotify_youtube_df_31_90.drop('engagement_rate',axis=1)\n",
    "spotify_youtube_df_31_90_y = spotify_youtube_df_31_90['engagement_rate']\n",
    "\n",
    "spotify_youtube_df_91_365_x = spotify_youtube_df_91_365.drop('engagement_rate',axis=1)\n",
    "spotify_youtube_df_91_365_y = spotify_youtube_df_91_365['engagement_rate']\n",
    "\n",
    "spotify_youtube_df_366_more_x = spotify_youtube_df_366_more.drop('engagement_rate',axis=1)\n",
    "spotify_youtube_df_366_more_y = spotify_youtube_df_366_more['engagement_rate']"
   ]
  },
  {
   "cell_type": "code",
   "execution_count": 17,
   "metadata": {},
   "outputs": [],
   "source": [
    "spotify_youtube_30X_train_val, spotify_youtube_30X_test, spotify_youtube_30y_train_val, spotify_youtube_30y_test = train_test_split(youtube_30_df_x, youtube_30_df_y, test_size=0.25, random_state=42)\n",
    "spotify_youtube_30X_train, spotify_youtube_30X_val, spotify_youtube_30y_train, spotify_youtube_30y_val = train_test_split(spotify_youtube_30X_train_val, spotify_youtube_30y_train_val, test_size=0.20, random_state=42)\n",
    "spotify_youtube_df_31_90X_train, spotify_youtube_df_31_90X_test, spotify_youtube_df_31_90y_train, spotify_youtube_df_31_90y_test = train_test_split(spotify_youtube_df_31_90_x, spotify_youtube_df_31_90_y, test_size=0.25, random_state=42)\n",
    "spotify_youtube_df_91_365X_train, spotify_youtube_df_91_365X_test, spotify_youtube_df_91_365y_train, spotify_youtube_df_91_365y_test = train_test_split(spotify_youtube_df_91_365_x, spotify_youtube_df_91_365_y, test_size=0.25, random_state=42)"
   ]
  },
  {
   "cell_type": "code",
   "execution_count": 18,
   "metadata": {},
   "outputs": [],
   "source": [
    "# Dados de treino \n",
    "sy_x_train=pd.concat([spotify_youtube_30X_train,spotify_youtube_df_31_90X_train,spotify_youtube_df_91_365X_train,spotify_youtube_df_366_more_x])\n",
    "sy_y_train=pd.concat([spotify_youtube_30y_train,spotify_youtube_df_31_90y_train,spotify_youtube_df_91_365y_train,spotify_youtube_df_366_more_y])"
   ]
  },
  {
   "cell_type": "code",
   "execution_count": 19,
   "metadata": {},
   "outputs": [],
   "source": [
    "sy_90_x_train=pd.concat([spotify_youtube_30X_train,spotify_youtube_df_31_90X_train])\n",
    "sy_90_y_train=pd.concat([spotify_youtube_30y_train,spotify_youtube_df_31_90y_train])"
   ]
  },
  {
   "cell_type": "code",
   "execution_count": 20,
   "metadata": {},
   "outputs": [],
   "source": [
    "sy_365_x_train=pd.concat([spotify_youtube_30X_train,spotify_youtube_df_31_90X_train,spotify_youtube_df_91_365X_train])\n",
    "sy_365_y_train=pd.concat([spotify_youtube_30y_train,spotify_youtube_df_31_90y_train,spotify_youtube_df_91_365y_train])"
   ]
  },
  {
   "cell_type": "code",
   "execution_count": 21,
   "metadata": {},
   "outputs": [],
   "source": [
    "sy_30_x_val=spotify_youtube_30X_val\n",
    "sy_30_y_val=spotify_youtube_30y_val"
   ]
  },
  {
   "cell_type": "code",
   "execution_count": 22,
   "metadata": {},
   "outputs": [],
   "source": [
    "# Para testar o desempenho do modelo com videos com ate 30 dias\n",
    "sy_30_x_test=spotify_youtube_30X_test\n",
    "sy_30_y_test=spotify_youtube_30y_test\n",
    "\n",
    "# Para testar o desempenho do modelo com videos com ate 90 dias\n",
    "sy_90_x_test=pd.concat([spotify_youtube_30X_test,spotify_youtube_df_31_90X_test])\n",
    "sy_90_y_test=pd.concat([spotify_youtube_30y_test,spotify_youtube_df_31_90y_test])\n",
    "\n",
    "# Para testar o desempenho do modelo com videos com ate 1 ano\n",
    "sy_365_x_test=pd.concat([spotify_youtube_30X_test,spotify_youtube_df_31_90X_test,spotify_youtube_df_91_365X_test])\n",
    "sy_365_y_test=pd.concat([spotify_youtube_30y_test,spotify_youtube_df_31_90y_test,spotify_youtube_df_91_365y_test])"
   ]
  },
  {
   "cell_type": "markdown",
   "metadata": {},
   "source": [
    "# Transformers"
   ]
  },
  {
   "cell_type": "code",
   "execution_count": 35,
   "metadata": {},
   "outputs": [],
   "source": [
    "class YNormalizer:\n",
    "    def __init__(self):\n",
    "        self.mean_ = None\n",
    "        self.std_ = None\n",
    "\n",
    "    def fit(self, y):\n",
    "        \"\"\"Calcula a média e o desvio padrão.\"\"\"\n",
    "        self.mean_ = y.mean().item()\n",
    "        self.std_ = y.std().item()\n",
    "\n",
    "    def transform(self, y):\n",
    "        \"\"\"Normaliza os dados.\"\"\"\n",
    "        if self.mean_ is None or self.std_ is None:\n",
    "            raise RuntimeError(\"Você precisa chamar 'fit' antes de 'transform'.\")\n",
    "        return (y - self.mean_) / self.std_\n",
    "\n",
    "    def inverse_transform(self, y_normalized):\n",
    "        \"\"\"Volta para a escala original.\"\"\"\n",
    "        if self.mean_ is None or self.std_ is None:\n",
    "            raise RuntimeError(\"Você precisa chamar 'fit' antes de 'inverse_transform'.\")\n",
    "        return y_normalized * self.std_ + self.mean_"
   ]
  },
  {
   "cell_type": "code",
   "execution_count": 36,
   "metadata": {},
   "outputs": [],
   "source": [
    "TaskType = Literal[\"regression\", \"binclass\", \"multiclass\"]\n",
    "\n",
    "task_type: TaskType = \"regression\"\n",
    "n_classes = None\n",
    "dataset = \"youtube_30\"\n",
    "X_cont: np.ndarray = youtube_30_df_x.values\n",
    "Y: np.ndarray = youtube_30_df_y.values\n",
    "\n",
    "# NOTE: uncomment to solve a classification task.\n",
    "# n_classes = 2\n",
    "# assert n_classes >= 2\n",
    "# task_type: TaskType = 'binclass' if n_classes == 2 else 'multiclass'\n",
    "# X_cont, Y = sklearn.datasets.make_classification(\n",
    "#     n_samples=20000,\n",
    "#     n_features=8,\n",
    "#     n_classes=n_classes,\n",
    "#     n_informative=3,\n",
    "#     n_redundant=2,\n",
    "# )\n",
    "\n",
    "# >>> Continuous features.\n",
    "X_cont: np.ndarray = X_cont.astype(np.float32)\n",
    "n_cont_features = X_cont.shape[1]\n",
    "\n",
    "# >>> Categorical features.\n",
    "# NOTE: the above datasets do not have categorical features, but,\n",
    "# for the demonstration purposes, it is possible to generate them.\n",
    "cat_cardinalities = [\n",
    "    # NOTE: uncomment the two lines below to add two categorical features.\n",
    "    # 4,  # Allowed values: [0, 1, 2, 3].\n",
    "    # 7,  # Allowed values: [0, 1, 2, 3, 4, 5, 6].\n",
    "]\n",
    "X_cat = (\n",
    "    np.column_stack(\n",
    "        [np.random.randint(0, c, (len(X_cont),)) for c in cat_cardinalities]\n",
    "    )\n",
    "    if cat_cardinalities\n",
    "    else None\n",
    ")\n",
    "\n",
    "# >>> Labels.\n",
    "# Regression labels must be represented by float32.\n",
    "if task_type == \"regression\":\n",
    "    Y = Y.astype(np.float32)\n",
    "else:\n",
    "    assert n_classes is not None\n",
    "    Y = Y.astype(np.int64)\n",
    "    assert set(Y.tolist()) == set(\n",
    "        range(n_classes)\n",
    "    ), \"Classification labels must form the range [0, 1, ..., n_classes - 1]\"\n",
    "\n",
    "# >>> Split the dataset.\n",
    "all_idx = np.arange(len(Y))\n",
    "trainval_idx, test_idx = sklearn.model_selection.train_test_split(\n",
    "    all_idx, train_size=0.8\n",
    ")\n",
    "train_idx, val_idx = sklearn.model_selection.train_test_split(\n",
    "    trainval_idx, train_size=0.8\n",
    ")\n",
    "data_numpy = {\n",
    "    \"train\": {\"x_cont\": X_cont[train_idx], \"y\": Y[train_idx]},\n",
    "    \"val\": {\"x_cont\": X_cont[val_idx], \"y\": Y[val_idx]},\n",
    "    \"test\": {\"x_cont\": X_cont[test_idx], \"y\": Y[test_idx]},\n",
    "}\n",
    "if X_cat is not None:\n",
    "    data_numpy[\"train\"][\"x_cat\"] = X_cat[train_idx]\n",
    "    data_numpy[\"val\"][\"x_cat\"] = X_cat[val_idx]\n",
    "    data_numpy[\"test\"][\"x_cat\"] = X_cat[test_idx]"
   ]
  },
  {
   "cell_type": "code",
   "execution_count": 37,
   "metadata": {},
   "outputs": [],
   "source": [
    "# >>> Feature preprocessing.\n",
    "# NOTE\n",
    "# The choice between preprocessing strategies depends on a task and a model.\n",
    "\n",
    "# (A) Simple preprocessing strategy.\n",
    "# preprocessing = sklearn.preprocessing.StandardScaler().fit(\n",
    "#     data_numpy['train']['x_cont']\n",
    "# )\n",
    "\n",
    "# (B) Fancy preprocessing strategy.\n",
    "# The noise is added to improve the output of QuantileTransformer in some cases.\n",
    "X_cont_train_numpy = data_numpy[\"train\"][\"x_cont\"]\n",
    "noise = (\n",
    "    np.random.default_rng(0)\n",
    "    .normal(0.0, 1e-5, X_cont_train_numpy.shape)\n",
    "    .astype(X_cont_train_numpy.dtype)\n",
    ")\n",
    "preprocessing = sklearn.preprocessing.QuantileTransformer(\n",
    "    n_quantiles=max(min(len(train_idx) // 30, 1000), 10),\n",
    "    output_distribution=\"normal\",\n",
    "    subsample=10**9,\n",
    ").fit(X_cont_train_numpy + noise)\n",
    "del X_cont_train_numpy\n",
    "\n",
    "for part in data_numpy:\n",
    "    data_numpy[part][\"x_cont\"] = preprocessing.transform(data_numpy[part][\"x_cont\"])\n",
    "\n",
    "normalizer = YNormalizer()\n",
    "\n",
    "# >>> Label preprocessing.\n",
    "if task_type == \"regression\":\n",
    "    normalizer.fit(data_numpy[\"train\"][\"y\"])\n",
    "\n",
    "    for part in data_numpy:\n",
    "        data_numpy[part][\"y\"] = normalizer.transform(data_numpy[part][\"y\"])\n",
    "\n",
    "# >>> Convert data to tensors.\n",
    "data = {\n",
    "    part: {k: torch.as_tensor(v, device=device) for k, v in data_numpy[part].items()}\n",
    "    for part in data_numpy\n",
    "}\n",
    "\n",
    "if task_type != \"multiclass\":\n",
    "    # Required by F.binary_cross_entropy_with_logits\n",
    "    for part in data:\n",
    "        data[part][\"y\"] = data[part][\"y\"].float()"
   ]
  },
  {
   "cell_type": "code",
   "execution_count": 30,
   "metadata": {},
   "outputs": [],
   "source": [
    "# >>> Ajustando os dados para os Transformers\n",
    "TaskType = Literal[\"regression\", \"binclass\", \"multiclass\"]\n",
    "\n",
    "task_type: TaskType = \"regression\"\n",
    "n_classes = None\n",
    "\n",
    "# Convertendo os conjuntos de treino, validação e teste para arrays NumPy\n",
    "X_cont_train = sy_x_train.values.astype(np.float32)\n",
    "Y_train = sy_y_train.values.astype(np.float32)\n",
    "\n",
    "X_cont_val = sy_30_x_val.values.astype(np.float32)\n",
    "Y_val = sy_30_y_val.values.astype(np.float32)\n",
    "\n",
    "X_cont_test = sy_30_x_test.values.astype(np.float32)\n",
    "Y_test = sy_30_y_test.values.astype(np.float32)\n",
    "\n",
    "n_cont_features = X_cont_train.shape[1]\n",
    "\n",
    "# >>> Labels.\n",
    "if task_type == \"regression\":\n",
    "    Y_train = Y_train.astype(np.float32)\n",
    "    Y_val = Y_val.astype(np.float32)\n",
    "    Y_test = Y_test.astype(np.float32)\n",
    "else:\n",
    "    assert n_classes is not None\n",
    "    Y_train = Y_train.astype(np.int64)\n",
    "    Y_val = Y_val.astype(np.int64)\n",
    "    Y_test = Y_test.astype(np.int64)\n",
    "\n",
    "# >>> Preparando os dados para treino, validação e teste\n",
    "data_numpy = {\n",
    "    \"train\": {\"x_cont\": X_cont_train, \"y\": Y_train},\n",
    "    \"val\": {\"x_cont\": X_cont_val, \"y\": Y_val},\n",
    "    \"test\": {\"x_cont\": X_cont_test, \"y\": Y_test},\n",
    "}\n",
    "\n",
    "# >>> Pré-processamento das features contínuas\n",
    "X_cont_train_numpy = data_numpy[\"train\"][\"x_cont\"]\n",
    "noise = (\n",
    "    np.random.default_rng(0)\n",
    "    .normal(0.0, 1e-5, X_cont_train_numpy.shape)\n",
    "    .astype(X_cont_train_numpy.dtype)\n",
    ")\n",
    "\n",
    "preprocessing = sklearn.preprocessing.QuantileTransformer(\n",
    "    n_quantiles=max(min(len(X_cont_train) // 30, 1000), 10),\n",
    "    output_distribution=\"normal\",\n",
    "    subsample=10**9,\n",
    ").fit(X_cont_train_numpy + noise)\n",
    "del X_cont_train_numpy\n",
    "\n",
    "for part in data_numpy:\n",
    "    data_numpy[part][\"x_cont\"] = preprocessing.transform(data_numpy[part][\"x_cont\"])\n",
    "\n",
    "normalizer = YNormalizer()\n",
    "\n",
    "# >>> Pré-processamento dos labels\n",
    "if task_type == \"regression\":\n",
    "    normalizer.fit(data_numpy[\"train\"][\"y\"])\n",
    "\n",
    "    for part in data_numpy:\n",
    "        data_numpy[part][\"y\"] = normalizer.transform(data_numpy[part][\"y\"])\n",
    "\n",
    "# >>> Convertendo os dados para tensores\n",
    "data = {\n",
    "    part: {k: torch.as_tensor(v, device=device) for k, v in data_numpy[part].items()}\n",
    "    for part in data_numpy\n",
    "}\n",
    "\n",
    "if task_type != \"multiclass\":\n",
    "    # Requerido por F.binary_cross_entropy_with_logits\n",
    "    for part in data:\n",
    "        data[part][\"y\"] = data[part][\"y\"].float()"
   ]
  },
  {
   "cell_type": "code",
   "execution_count": 38,
   "metadata": {},
   "outputs": [],
   "source": [
    "# The output size.\n",
    "#cat_cardinalities = None\n",
    "d_out = n_classes if task_type == \"multiclass\" else 1\n",
    "\n",
    "model = FTTransformer(\n",
    "    n_cont_features=n_cont_features,\n",
    "    cat_cardinalities=cat_cardinalities,\n",
    "    d_out=d_out,\n",
    "    **FTTransformer.get_default_kwargs(),\n",
    ").to(device)\n",
    "optimizer = model.make_default_optimizer()"
   ]
  },
  {
   "cell_type": "code",
   "execution_count": 39,
   "metadata": {},
   "outputs": [
    {
     "name": "stdout",
     "output_type": "stream",
     "text": [
      "Test score before training: -1.8014\n"
     ]
    }
   ],
   "source": [
    "def apply_model(batch: Dict[str, Tensor]) -> Tensor:\n",
    "    if isinstance(model, (MLP, ResNet)):\n",
    "        x_cat_ohe = (\n",
    "            [\n",
    "                F.one_hot(column, cardinality)\n",
    "                for column, cardinality in zip(batch[\"x_cat\"].T, cat_cardinalities)\n",
    "            ]\n",
    "            if \"x_cat\" in batch\n",
    "            else []\n",
    "        )\n",
    "        return model(torch.column_stack([batch[\"x_cont\"]] + x_cat_ohe)).squeeze(-1)\n",
    "\n",
    "    elif isinstance(model, FTTransformer):\n",
    "        return model(batch[\"x_cont\"], batch.get(\"x_cat\")).squeeze(-1)\n",
    "\n",
    "    else:\n",
    "        raise RuntimeError(f\"Unknown model type: {type(model)}\")\n",
    "\n",
    "\n",
    "loss_fn = (\n",
    "    F.binary_cross_entropy_with_logits\n",
    "    if task_type == \"binclass\"\n",
    "    else F.cross_entropy\n",
    "    if task_type == \"multiclass\"\n",
    "    else F.mse_loss\n",
    ")\n",
    "\n",
    "\n",
    "@torch.no_grad()\n",
    "def evaluate(part: str) -> float:\n",
    "    model.eval()\n",
    "\n",
    "    eval_batch_size = 8096\n",
    "    y_pred = (\n",
    "        torch.cat(\n",
    "            [\n",
    "                apply_model(batch)\n",
    "                for batch in delu.iter_batches(data[part], eval_batch_size)\n",
    "            ]\n",
    "        )\n",
    "        .cpu()\n",
    "        .numpy()\n",
    "    )\n",
    "    y_true = data[part][\"y\"].cpu().numpy()\n",
    "\n",
    "    if task_type == \"binclass\":\n",
    "        y_pred = np.round(scipy.special.expit(y_pred))\n",
    "        score = sklearn.metrics.accuracy_score(y_true, y_pred)\n",
    "    elif task_type == \"multiclass\":\n",
    "        y_pred = y_pred.argmax(1)\n",
    "        score = sklearn.metrics.accuracy_score(y_true, y_pred)\n",
    "    else:\n",
    "        assert task_type == \"regression\"\n",
    "        mse = sklearn.metrics.mean_squared_error(normalizer.inverse_transform(y_true), normalizer.inverse_transform(y_pred))\n",
    "        score = -(sklearn.metrics.mean_squared_error(y_true, y_pred) ** 0.5 * normalizer.std_)\n",
    "        #score = sklearn.metrics.mean_squared_error(y_true, y_pred)\n",
    "    return score,mse  # The higher -- the better.\n",
    "\n",
    "eval,_=evaluate(\"test\")\n",
    "print(f'Test score before training: {eval:.4f}')"
   ]
  },
  {
   "cell_type": "code",
   "execution_count": 40,
   "metadata": {},
   "outputs": [
    {
     "name": "stdout",
     "output_type": "stream",
     "text": [
      "Device: CPU\n",
      "----------------------------------------------------------------------------------------\n",
      "\n"
     ]
    },
    {
     "name": "stderr",
     "output_type": "stream",
     "text": [
      "Epoch 0: 100%|██████████| 7/7 [00:00<00:00, 28.00it/s]\n"
     ]
    },
    {
     "name": "stdout",
     "output_type": "stream",
     "text": [
      "(val) -2.0243 (test) -1.9150 (mse) 3.667229413986206 [time] 0:00:00.297763\n",
      "🌸 New best epoch! 🌸\n",
      "\n"
     ]
    },
    {
     "name": "stderr",
     "output_type": "stream",
     "text": [
      "Epoch 1: 100%|██████████| 7/7 [00:00<00:00, 26.71it/s]\n"
     ]
    },
    {
     "name": "stdout",
     "output_type": "stream",
     "text": [
      "(val) -2.0703 (test) -1.8437 (mse) 3.399109363555908 [time] 0:00:00.611476\n",
      "\n"
     ]
    },
    {
     "name": "stderr",
     "output_type": "stream",
     "text": [
      "Epoch 2: 100%|██████████| 7/7 [00:00<00:00, 25.06it/s]\n"
     ]
    },
    {
     "name": "stdout",
     "output_type": "stream",
     "text": [
      "(val) -1.8984 (test) -1.7718 (mse) 3.1391549110412598 [time] 0:00:00.924391\n",
      "🌸 New best epoch! 🌸\n",
      "\n"
     ]
    },
    {
     "name": "stderr",
     "output_type": "stream",
     "text": [
      "Epoch 3: 100%|██████████| 7/7 [00:00<00:00, 19.28it/s]\n"
     ]
    },
    {
     "name": "stdout",
     "output_type": "stream",
     "text": [
      "(val) -1.9768 (test) -1.8343 (mse) 3.364656448364258 [time] 0:00:01.328774\n",
      "\n"
     ]
    },
    {
     "name": "stderr",
     "output_type": "stream",
     "text": [
      "Epoch 4: 100%|██████████| 7/7 [00:00<00:00, 30.26it/s]\n"
     ]
    },
    {
     "name": "stdout",
     "output_type": "stream",
     "text": [
      "(val) -1.8624 (test) -1.8390 (mse) 3.3818411827087402 [time] 0:00:01.602589\n",
      "🌸 New best epoch! 🌸\n",
      "\n"
     ]
    },
    {
     "name": "stderr",
     "output_type": "stream",
     "text": [
      "Epoch 5: 100%|██████████| 7/7 [00:00<00:00, 31.17it/s]\n"
     ]
    },
    {
     "name": "stdout",
     "output_type": "stream",
     "text": [
      "(val) -1.9844 (test) -1.9088 (mse) 3.64339280128479 [time] 0:00:01.868747\n",
      "\n"
     ]
    },
    {
     "name": "stderr",
     "output_type": "stream",
     "text": [
      "Epoch 6: 100%|██████████| 7/7 [00:00<00:00, 28.91it/s]\n"
     ]
    },
    {
     "name": "stdout",
     "output_type": "stream",
     "text": [
      "(val) -1.9108 (test) -1.8832 (mse) 3.5464024543762207 [time] 0:00:02.154549\n",
      "\n"
     ]
    },
    {
     "name": "stderr",
     "output_type": "stream",
     "text": [
      "Epoch 7: 100%|██████████| 7/7 [00:00<00:00, 31.37it/s]\n"
     ]
    },
    {
     "name": "stdout",
     "output_type": "stream",
     "text": [
      "(val) -2.1518 (test) -1.9806 (mse) 3.922633171081543 [time] 0:00:02.421891\n",
      "\n"
     ]
    },
    {
     "name": "stderr",
     "output_type": "stream",
     "text": [
      "Epoch 8: 100%|██████████| 7/7 [00:00<00:00, 30.57it/s]\n"
     ]
    },
    {
     "name": "stdout",
     "output_type": "stream",
     "text": [
      "(val) -1.9812 (test) -1.8143 (mse) 3.291703224182129 [time] 0:00:02.680682\n",
      "\n"
     ]
    },
    {
     "name": "stderr",
     "output_type": "stream",
     "text": [
      "Epoch 9: 100%|██████████| 7/7 [00:00<00:00, 35.37it/s]\n"
     ]
    },
    {
     "name": "stdout",
     "output_type": "stream",
     "text": [
      "(val) -2.1261 (test) -1.9639 (mse) 3.8568966388702393 [time] 0:00:02.927697\n",
      "\n"
     ]
    },
    {
     "name": "stderr",
     "output_type": "stream",
     "text": [
      "Epoch 10: 100%|██████████| 7/7 [00:00<00:00, 30.57it/s]\n"
     ]
    },
    {
     "name": "stdout",
     "output_type": "stream",
     "text": [
      "(val) -2.0237 (test) -1.9879 (mse) 3.9516398906707764 [time] 0:00:03.188574\n",
      "\n"
     ]
    },
    {
     "name": "stderr",
     "output_type": "stream",
     "text": [
      "Epoch 11: 100%|██████████| 7/7 [00:00<00:00, 21.44it/s]\n"
     ]
    },
    {
     "name": "stdout",
     "output_type": "stream",
     "text": [
      "(val) -2.1924 (test) -1.9463 (mse) 3.7881088256835938 [time] 0:00:03.555478\n",
      "\n"
     ]
    },
    {
     "name": "stderr",
     "output_type": "stream",
     "text": [
      "Epoch 12: 100%|██████████| 7/7 [00:00<00:00, 31.79it/s]\n"
     ]
    },
    {
     "name": "stdout",
     "output_type": "stream",
     "text": [
      "(val) -1.9622 (test) -1.7311 (mse) 2.9968113899230957 [time] 0:00:03.813834\n",
      "\n"
     ]
    },
    {
     "name": "stderr",
     "output_type": "stream",
     "text": [
      "Epoch 13: 100%|██████████| 7/7 [00:00<00:00, 32.58it/s]\n"
     ]
    },
    {
     "name": "stdout",
     "output_type": "stream",
     "text": [
      "(val) -2.0705 (test) -1.8719 (mse) 3.503870725631714 [time] 0:00:04.079782\n",
      "\n"
     ]
    },
    {
     "name": "stderr",
     "output_type": "stream",
     "text": [
      "Epoch 14: 100%|██████████| 7/7 [00:00<00:00, 31.33it/s]\n"
     ]
    },
    {
     "name": "stdout",
     "output_type": "stream",
     "text": [
      "(val) -2.0225 (test) -1.8681 (mse) 3.489859104156494 [time] 0:00:04.341551\n",
      "\n"
     ]
    },
    {
     "name": "stderr",
     "output_type": "stream",
     "text": [
      "Epoch 15: 100%|██████████| 7/7 [00:00<00:00, 27.40it/s]\n"
     ]
    },
    {
     "name": "stdout",
     "output_type": "stream",
     "text": [
      "(val) -1.9987 (test) -1.7217 (mse) 2.964120388031006 [time] 0:00:04.649565\n",
      "\n"
     ]
    },
    {
     "name": "stderr",
     "output_type": "stream",
     "text": [
      "Epoch 16: 100%|██████████| 7/7 [00:00<00:00, 28.84it/s]\n"
     ]
    },
    {
     "name": "stdout",
     "output_type": "stream",
     "text": [
      "(val) -2.0529 (test) -1.7634 (mse) 3.109616279602051 [time] 0:00:04.933457\n",
      "\n"
     ]
    },
    {
     "name": "stderr",
     "output_type": "stream",
     "text": [
      "Epoch 17: 100%|██████████| 7/7 [00:00<00:00, 31.12it/s]\n"
     ]
    },
    {
     "name": "stdout",
     "output_type": "stream",
     "text": [
      "(val) -1.9654 (test) -1.8464 (mse) 3.4090540409088135 [time] 0:00:05.199426\n",
      "\n"
     ]
    },
    {
     "name": "stderr",
     "output_type": "stream",
     "text": [
      "Epoch 18: 100%|██████████| 7/7 [00:00<00:00, 20.20it/s]\n"
     ]
    },
    {
     "name": "stdout",
     "output_type": "stream",
     "text": [
      "(val) -2.2657 (test) -1.9730 (mse) 3.892824649810791 [time] 0:00:05.584863\n",
      "\n"
     ]
    },
    {
     "name": "stderr",
     "output_type": "stream",
     "text": [
      "Epoch 19: 100%|██████████| 7/7 [00:00<00:00, 32.34it/s]\n"
     ]
    },
    {
     "name": "stdout",
     "output_type": "stream",
     "text": [
      "(val) -2.0372 (test) -1.7316 (mse) 2.998556137084961 [time] 0:00:05.846609\n",
      "\n"
     ]
    },
    {
     "name": "stderr",
     "output_type": "stream",
     "text": [
      "Epoch 20: 100%|██████████| 7/7 [00:00<00:00, 35.19it/s]\n"
     ]
    },
    {
     "name": "stdout",
     "output_type": "stream",
     "text": [
      "(val) -2.0465 (test) -1.8321 (mse) 3.3566699028015137 [time] 0:00:06.096169\n",
      "\n"
     ]
    },
    {
     "name": "stderr",
     "output_type": "stream",
     "text": [
      "Epoch 21: 100%|██████████| 7/7 [00:00<00:00, 30.57it/s]\n"
     ]
    },
    {
     "name": "stdout",
     "output_type": "stream",
     "text": [
      "(val) -2.0651 (test) -1.8476 (mse) 3.413588285446167 [time] 0:00:06.364091\n",
      "\n"
     ]
    },
    {
     "name": "stderr",
     "output_type": "stream",
     "text": [
      "Epoch 22: 100%|██████████| 7/7 [00:00<00:00, 25.28it/s]\n"
     ]
    },
    {
     "name": "stdout",
     "output_type": "stream",
     "text": [
      "(val) -2.2666 (test) -1.8638 (mse) 3.4735682010650635 [time] 0:00:06.682337\n",
      "\n"
     ]
    },
    {
     "name": "stderr",
     "output_type": "stream",
     "text": [
      "Epoch 23: 100%|██████████| 7/7 [00:00<00:00, 27.73it/s]\n"
     ]
    },
    {
     "name": "stdout",
     "output_type": "stream",
     "text": [
      "(val) -2.2153 (test) -1.8759 (mse) 3.518843650817871 [time] 0:00:06.977883\n",
      "\n"
     ]
    },
    {
     "name": "stderr",
     "output_type": "stream",
     "text": [
      "Epoch 24: 100%|██████████| 7/7 [00:00<00:00, 30.20it/s]\n"
     ]
    },
    {
     "name": "stdout",
     "output_type": "stream",
     "text": [
      "(val) -1.9465 (test) -1.8162 (mse) 3.2985522747039795 [time] 0:00:07.335389\n",
      "\n"
     ]
    },
    {
     "name": "stderr",
     "output_type": "stream",
     "text": [
      "Epoch 25: 100%|██████████| 7/7 [00:00<00:00, 33.35it/s]\n"
     ]
    },
    {
     "name": "stdout",
     "output_type": "stream",
     "text": [
      "(val) -2.0196 (test) -1.9034 (mse) 3.622795581817627 [time] 0:00:07.597089\n",
      "\n"
     ]
    },
    {
     "name": "stderr",
     "output_type": "stream",
     "text": [
      "Epoch 26: 100%|██████████| 7/7 [00:00<00:00, 32.38it/s]\n"
     ]
    },
    {
     "name": "stdout",
     "output_type": "stream",
     "text": [
      "(val) -1.9706 (test) -1.8327 (mse) 3.358680009841919 [time] 0:00:07.857384\n",
      "\n"
     ]
    },
    {
     "name": "stderr",
     "output_type": "stream",
     "text": [
      "Epoch 27: 100%|██████████| 7/7 [00:00<00:00, 25.75it/s]\n"
     ]
    },
    {
     "name": "stdout",
     "output_type": "stream",
     "text": [
      "(val) -2.0766 (test) -1.8676 (mse) 3.4877915382385254 [time] 0:00:08.190941\n",
      "\n"
     ]
    },
    {
     "name": "stderr",
     "output_type": "stream",
     "text": [
      "Epoch 28: 100%|██████████| 7/7 [00:00<00:00, 30.63it/s]\n"
     ]
    },
    {
     "name": "stdout",
     "output_type": "stream",
     "text": [
      "(val) -2.2046 (test) -1.8994 (mse) 3.6076061725616455 [time] 0:00:08.462071\n",
      "\n"
     ]
    },
    {
     "name": "stderr",
     "output_type": "stream",
     "text": [
      "Epoch 29: 100%|██████████| 7/7 [00:00<00:00, 30.75it/s]\n"
     ]
    },
    {
     "name": "stdout",
     "output_type": "stream",
     "text": [
      "(val) -2.2249 (test) -2.0002 (mse) 4.000626087188721 [time] 0:00:08.725983\n",
      "\n"
     ]
    },
    {
     "name": "stderr",
     "output_type": "stream",
     "text": [
      "Epoch 30: 100%|██████████| 7/7 [00:00<00:00, 30.05it/s]\n"
     ]
    },
    {
     "name": "stdout",
     "output_type": "stream",
     "text": [
      "(val) -2.1294 (test) -1.8967 (mse) 3.5974206924438477 [time] 0:00:08.998375\n",
      "\n"
     ]
    },
    {
     "name": "stderr",
     "output_type": "stream",
     "text": [
      "Epoch 31: 100%|██████████| 7/7 [00:00<00:00, 20.75it/s]\n"
     ]
    },
    {
     "name": "stdout",
     "output_type": "stream",
     "text": [
      "(val) -2.1763 (test) -1.9816 (mse) 3.9265594482421875 [time] 0:00:09.377653\n",
      "\n"
     ]
    },
    {
     "name": "stderr",
     "output_type": "stream",
     "text": [
      "Epoch 32: 100%|██████████| 7/7 [00:00<00:00, 30.00it/s]\n"
     ]
    },
    {
     "name": "stdout",
     "output_type": "stream",
     "text": [
      "(val) -2.1916 (test) -2.0070 (mse) 4.0281572341918945 [time] 0:00:09.646114\n",
      "\n"
     ]
    },
    {
     "name": "stderr",
     "output_type": "stream",
     "text": [
      "Epoch 33: 100%|██████████| 7/7 [00:00<00:00, 33.04it/s]\n"
     ]
    },
    {
     "name": "stdout",
     "output_type": "stream",
     "text": [
      "(val) -2.1595 (test) -2.0043 (mse) 4.017075061798096 [time] 0:00:09.898405\n",
      "\n"
     ]
    },
    {
     "name": "stderr",
     "output_type": "stream",
     "text": [
      "Epoch 34: 100%|██████████| 7/7 [00:00<00:00, 32.75it/s]\n"
     ]
    },
    {
     "name": "stdout",
     "output_type": "stream",
     "text": [
      "(val) -2.1053 (test) -1.9106 (mse) 3.6505661010742188 [time] 0:00:10.164620\n",
      "\n"
     ]
    },
    {
     "name": "stderr",
     "output_type": "stream",
     "text": [
      "Epoch 35: 100%|██████████| 7/7 [00:00<00:00, 32.75it/s]\n"
     ]
    },
    {
     "name": "stdout",
     "output_type": "stream",
     "text": [
      "(val) -2.1198 (test) -1.9647 (mse) 3.8602328300476074 [time] 0:00:10.415762\n",
      "\n"
     ]
    },
    {
     "name": "stderr",
     "output_type": "stream",
     "text": [
      "Epoch 36: 100%|██████████| 7/7 [00:00<00:00, 30.44it/s]\n"
     ]
    },
    {
     "name": "stdout",
     "output_type": "stream",
     "text": [
      "(val) -2.1749 (test) -2.0123 (mse) 4.049516677856445 [time] 0:00:10.681792\n",
      "\n"
     ]
    },
    {
     "name": "stderr",
     "output_type": "stream",
     "text": [
      "Epoch 37: 100%|██████████| 7/7 [00:00<00:00, 35.37it/s]\n"
     ]
    },
    {
     "name": "stdout",
     "output_type": "stream",
     "text": [
      "(val) -2.0533 (test) -1.9351 (mse) 3.744466781616211 [time] 0:00:10.931436\n",
      "\n"
     ]
    },
    {
     "name": "stderr",
     "output_type": "stream",
     "text": [
      "Epoch 38: 100%|██████████| 7/7 [00:00<00:00, 23.51it/s]\n"
     ]
    },
    {
     "name": "stdout",
     "output_type": "stream",
     "text": [
      "(val) -2.1174 (test) -2.0300 (mse) 4.120716094970703 [time] 0:00:11.277085\n",
      "\n",
      "\n",
      "Result:\n",
      "{'val': -1.8623957161649796, 'test': -1.8389783119656267, 'mse': 3.3818411827087402, 'epoch': 4}\n"
     ]
    }
   ],
   "source": [
    "# Apenas com dados de 30 dias\n",
    "# For demonstration purposes (fast training and bad performance),\n",
    "# one can set smaller values:\n",
    "# n_epochs = 20\n",
    "# patience = 2\n",
    "\n",
    "n_epochs = 100\n",
    "patience = 16\n",
    "\n",
    "batch_size = 32\n",
    "epoch_size = math.ceil(len(train_idx) / batch_size)\n",
    "timer = delu.tools.Timer()\n",
    "\n",
    "# MSE: queremos minimizar -> mode=\"min\"\n",
    "early_stopping = delu.tools.EarlyStopping(patience, mode=\"min\")\n",
    "\n",
    "best = {\n",
    "    \"val\": -math.inf,\n",
    "    \"test\": -math.inf,\n",
    "    \"mse\": float(\"inf\"),\n",
    "    \"epoch\": -1,\n",
    "}\n",
    "\n",
    "print(f\"Device: {device.type.upper()}\")\n",
    "print(\"-\" * 88 + \"\\n\")\n",
    "timer.run()\n",
    "\n",
    "for epoch in range(n_epochs):\n",
    "    for batch in tqdm(\n",
    "        delu.iter_batches(data[\"train\"], batch_size, shuffle=True),\n",
    "        desc=f\"Epoch {epoch}\",\n",
    "        total=epoch_size,\n",
    "    ):\n",
    "        model.train()\n",
    "        optimizer.zero_grad()\n",
    "        loss = loss_fn(apply_model(batch), batch[\"y\"])\n",
    "        loss.backward()\n",
    "        optimizer.step()\n",
    "\n",
    "    val_score,_ = evaluate(\"val\")\n",
    "    test_score,test_mse = evaluate(\"test\")\n",
    "    print(f\"(val) {val_score:.4f} (test) {test_score:.4f} (mse) {test_mse} [time] {timer}\")\n",
    "\n",
    "    early_stopping.update(val_score)\n",
    "    if early_stopping.should_stop():\n",
    "        break\n",
    "\n",
    "    if val_score > best[\"val\"]:\n",
    "        print(\"🌸 New best epoch! 🌸\")\n",
    "        best = {\"val\": val_score, \"test\": test_score, \"mse\":test_mse, \"epoch\": epoch}\n",
    "    print()\n",
    "\n",
    "print(\"\\n\\nResult:\")\n",
    "print(best)"
   ]
  },
  {
   "cell_type": "code",
   "execution_count": 34,
   "metadata": {},
   "outputs": [
    {
     "name": "stdout",
     "output_type": "stream",
     "text": [
      "Device: CPU\n",
      "----------------------------------------------------------------------------------------\n",
      "\n"
     ]
    },
    {
     "name": "stderr",
     "output_type": "stream",
     "text": [
      "Epoch 0: 100%|██████████| 398/398 [00:14<00:00, 28.28it/s]\n"
     ]
    },
    {
     "name": "stdout",
     "output_type": "stream",
     "text": [
      "(val) -2.0857 (test) -2.0726 (mse) 4.295776844024658 [time] 0:00:14.119950\n",
      "🌸 New best epoch! 🌸\n",
      "\n"
     ]
    },
    {
     "name": "stderr",
     "output_type": "stream",
     "text": [
      "Epoch 1: 100%|██████████| 398/398 [00:13<00:00, 29.88it/s]\n"
     ]
    },
    {
     "name": "stdout",
     "output_type": "stream",
     "text": [
      "(val) -2.0949 (test) -2.1249 (mse) 4.5150146484375 [time] 0:00:27.494134\n",
      "\n"
     ]
    },
    {
     "name": "stderr",
     "output_type": "stream",
     "text": [
      "Epoch 2: 100%|██████████| 398/398 [00:15<00:00, 26.49it/s]\n"
     ]
    },
    {
     "name": "stdout",
     "output_type": "stream",
     "text": [
      "(val) -2.0881 (test) -1.9985 (mse) 3.994184970855713 [time] 0:00:42.561022\n",
      "\n"
     ]
    },
    {
     "name": "stderr",
     "output_type": "stream",
     "text": [
      "Epoch 3: 100%|██████████| 398/398 [00:13<00:00, 28.99it/s]\n"
     ]
    },
    {
     "name": "stdout",
     "output_type": "stream",
     "text": [
      "(val) -2.1566 (test) -2.1496 (mse) 4.620800971984863 [time] 0:00:56.344392\n",
      "\n"
     ]
    },
    {
     "name": "stderr",
     "output_type": "stream",
     "text": [
      "Epoch 4: 100%|██████████| 398/398 [00:13<00:00, 30.22it/s]\n"
     ]
    },
    {
     "name": "stdout",
     "output_type": "stream",
     "text": [
      "(val) -2.2646 (test) -2.1647 (mse) 4.685763359069824 [time] 0:01:09.555295\n",
      "\n"
     ]
    },
    {
     "name": "stderr",
     "output_type": "stream",
     "text": [
      "Epoch 5: 100%|██████████| 398/398 [00:13<00:00, 29.25it/s]\n"
     ]
    },
    {
     "name": "stdout",
     "output_type": "stream",
     "text": [
      "(val) -2.1991 (test) -2.1268 (mse) 4.523179054260254 [time] 0:01:23.205896\n",
      "\n"
     ]
    },
    {
     "name": "stderr",
     "output_type": "stream",
     "text": [
      "Epoch 6: 100%|██████████| 398/398 [00:14<00:00, 28.33it/s]\n"
     ]
    },
    {
     "name": "stdout",
     "output_type": "stream",
     "text": [
      "(val) -2.0422 (test) -1.9927 (mse) 3.9710395336151123 [time] 0:01:37.307510\n",
      "🌸 New best epoch! 🌸\n",
      "\n"
     ]
    },
    {
     "name": "stderr",
     "output_type": "stream",
     "text": [
      "Epoch 7: 100%|██████████| 398/398 [00:13<00:00, 29.19it/s]\n"
     ]
    },
    {
     "name": "stdout",
     "output_type": "stream",
     "text": [
      "(val) -1.9992 (test) -1.9699 (mse) 3.880493640899658 [time] 0:01:50.986050\n",
      "🌸 New best epoch! 🌸\n",
      "\n"
     ]
    },
    {
     "name": "stderr",
     "output_type": "stream",
     "text": [
      "Epoch 8: 100%|██████████| 398/398 [00:13<00:00, 29.30it/s]\n"
     ]
    },
    {
     "name": "stdout",
     "output_type": "stream",
     "text": [
      "(val) -2.1013 (test) -2.0092 (mse) 4.0370001792907715 [time] 0:02:04.614896\n",
      "\n"
     ]
    },
    {
     "name": "stderr",
     "output_type": "stream",
     "text": [
      "Epoch 9: 100%|██████████| 398/398 [00:13<00:00, 28.89it/s]\n"
     ]
    },
    {
     "name": "stdout",
     "output_type": "stream",
     "text": [
      "(val) -2.0673 (test) -1.9832 (mse) 3.9329521656036377 [time] 0:02:18.433366\n",
      "\n"
     ]
    },
    {
     "name": "stderr",
     "output_type": "stream",
     "text": [
      "Epoch 10: 100%|██████████| 398/398 [00:13<00:00, 29.02it/s]\n"
     ]
    },
    {
     "name": "stdout",
     "output_type": "stream",
     "text": [
      "(val) -2.0906 (test) -2.0542 (mse) 4.219779968261719 [time] 0:02:32.191392\n",
      "\n"
     ]
    },
    {
     "name": "stderr",
     "output_type": "stream",
     "text": [
      "Epoch 11: 100%|██████████| 398/398 [00:13<00:00, 29.27it/s]\n"
     ]
    },
    {
     "name": "stdout",
     "output_type": "stream",
     "text": [
      "(val) -2.0048 (test) -1.9578 (mse) 3.8330910205841064 [time] 0:02:45.831743\n",
      "\n"
     ]
    },
    {
     "name": "stderr",
     "output_type": "stream",
     "text": [
      "Epoch 12: 100%|██████████| 398/398 [00:13<00:00, 30.01it/s]\n"
     ]
    },
    {
     "name": "stdout",
     "output_type": "stream",
     "text": [
      "(val) -2.1286 (test) -2.0702 (mse) 4.285667896270752 [time] 0:02:59.138260\n",
      "\n"
     ]
    },
    {
     "name": "stderr",
     "output_type": "stream",
     "text": [
      "Epoch 13: 100%|██████████| 398/398 [00:13<00:00, 28.89it/s]\n"
     ]
    },
    {
     "name": "stdout",
     "output_type": "stream",
     "text": [
      "(val) -2.0402 (test) -2.0755 (mse) 4.307807445526123 [time] 0:03:12.963062\n",
      "\n"
     ]
    },
    {
     "name": "stderr",
     "output_type": "stream",
     "text": [
      "Epoch 14: 100%|██████████| 398/398 [00:13<00:00, 30.11it/s]\n"
     ]
    },
    {
     "name": "stdout",
     "output_type": "stream",
     "text": [
      "(val) -2.0070 (test) -2.0051 (mse) 4.020299911499023 [time] 0:03:26.222430\n",
      "\n"
     ]
    },
    {
     "name": "stderr",
     "output_type": "stream",
     "text": [
      "Epoch 15: 100%|██████████| 398/398 [00:13<00:00, 29.97it/s]\n"
     ]
    },
    {
     "name": "stdout",
     "output_type": "stream",
     "text": [
      "(val) -1.9744 (test) -1.9799 (mse) 3.9201724529266357 [time] 0:03:39.546462\n",
      "🌸 New best epoch! 🌸\n",
      "\n"
     ]
    },
    {
     "name": "stderr",
     "output_type": "stream",
     "text": [
      "Epoch 16: 100%|██████████| 398/398 [00:13<00:00, 29.75it/s]\n"
     ]
    },
    {
     "name": "stdout",
     "output_type": "stream",
     "text": [
      "(val) -2.0529 (test) -2.1335 (mse) 4.551864147186279 [time] 0:03:52.980497\n",
      "\n"
     ]
    },
    {
     "name": "stderr",
     "output_type": "stream",
     "text": [
      "Epoch 17: 100%|██████████| 398/398 [00:13<00:00, 29.41it/s]\n"
     ]
    },
    {
     "name": "stdout",
     "output_type": "stream",
     "text": [
      "(val) -2.0502 (test) -2.0004 (mse) 4.001648902893066 [time] 0:04:06.555527\n",
      "\n"
     ]
    },
    {
     "name": "stderr",
     "output_type": "stream",
     "text": [
      "Epoch 18: 100%|██████████| 398/398 [00:13<00:00, 29.67it/s]\n"
     ]
    },
    {
     "name": "stdout",
     "output_type": "stream",
     "text": [
      "(val) -2.0099 (test) -2.0190 (mse) 4.076539516448975 [time] 0:04:20.004446\n",
      "\n"
     ]
    },
    {
     "name": "stderr",
     "output_type": "stream",
     "text": [
      "Epoch 19: 100%|██████████| 398/398 [00:13<00:00, 30.09it/s]\n"
     ]
    },
    {
     "name": "stdout",
     "output_type": "stream",
     "text": [
      "(val) -2.0383 (test) -1.9841 (mse) 3.936525344848633 [time] 0:04:33.281352\n",
      "\n"
     ]
    },
    {
     "name": "stderr",
     "output_type": "stream",
     "text": [
      "Epoch 20: 100%|██████████| 398/398 [00:13<00:00, 30.26it/s]"
     ]
    },
    {
     "name": "stdout",
     "output_type": "stream",
     "text": [
      "(val) -2.1177 (test) -2.1289 (mse) 4.532148361206055 [time] 0:04:46.475413\n",
      "\n",
      "\n",
      "Result:\n",
      "{'val': -1.9743982608848545, 'test': -1.9799427175624165, 'mse': 3.9201724529266357, 'epoch': 15}\n"
     ]
    },
    {
     "name": "stderr",
     "output_type": "stream",
     "text": [
      "\n"
     ]
    }
   ],
   "source": [
    "# Configurações de treinamento\n",
    "n_epochs = 100\n",
    "patience = 16\n",
    "\n",
    "batch_size = 32\n",
    "epoch_size = math.ceil(len(data[\"train\"][\"x_cont\"]) / batch_size)\n",
    "timer = delu.tools.Timer()\n",
    "\n",
    "# MSE: queremos minimizar -> mode=\"min\"\n",
    "early_stopping = delu.tools.EarlyStopping(patience, mode=\"min\")\n",
    "\n",
    "best = {\n",
    "    \"val\": -math.inf,\n",
    "    \"test\": -math.inf,\n",
    "    \"mse\": float(\"inf\"),\n",
    "    \"epoch\": -1,\n",
    "}\n",
    "\n",
    "print(f\"Device: {device.type.upper()}\")\n",
    "print(\"-\" * 88 + \"\\n\")\n",
    "timer.run()\n",
    "\n",
    "for epoch in range(n_epochs):\n",
    "    for batch in tqdm(\n",
    "        delu.iter_batches(data[\"train\"], batch_size, shuffle=True),\n",
    "        desc=f\"Epoch {epoch}\",\n",
    "        total=epoch_size,\n",
    "    ):\n",
    "        model.train()\n",
    "        optimizer.zero_grad()\n",
    "        loss = loss_fn(apply_model(batch), batch[\"y\"])\n",
    "        loss.backward()\n",
    "        optimizer.step()\n",
    "\n",
    "    val_score, _ = evaluate(\"val\")\n",
    "    test_score, test_mse = evaluate(\"test\")\n",
    "    print(f\"(val) {val_score:.4f} (test) {test_score:.4f} (mse) {test_mse} [time] {timer}\")\n",
    "\n",
    "    early_stopping.update(val_score)\n",
    "    if early_stopping.should_stop():\n",
    "        break\n",
    "\n",
    "    if val_score > best[\"val\"]:\n",
    "        print(\"🌸 New best epoch! 🌸\")\n",
    "        best = {\"val\": val_score, \"test\": test_score, \"mse\": test_mse, \"epoch\": epoch}\n",
    "    print()\n",
    "\n",
    "print(\"\\n\\nResult:\")\n",
    "print(best)"
   ]
  }
 ],
 "metadata": {
  "kernelspec": {
   "display_name": ".venv",
   "language": "python",
   "name": "python3"
  },
  "language_info": {
   "codemirror_mode": {
    "name": "ipython",
    "version": 3
   },
   "file_extension": ".py",
   "mimetype": "text/x-python",
   "name": "python",
   "nbconvert_exporter": "python",
   "pygments_lexer": "ipython3",
   "version": "3.12.10"
  }
 },
 "nbformat": 4,
 "nbformat_minor": 2
}
