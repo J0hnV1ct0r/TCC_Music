{
 "cells": [
  {
   "cell_type": "code",
   "execution_count": 1,
   "id": "fb2e1c5c",
   "metadata": {},
   "outputs": [],
   "source": [
    "import pandas as pd\n",
    "from sklearn.model_selection import train_test_split\n",
    "from sklearn.metrics import mean_squared_error\n",
    "import numpy as np\n",
    "import matplotlib.pyplot as plt\n",
    "import seaborn as sns"
   ]
  },
  {
   "cell_type": "code",
   "execution_count": 2,
   "id": "85d11e0e",
   "metadata": {},
   "outputs": [],
   "source": [
    "from sklearn.linear_model import  LinearRegression\n",
    "from sklearn.ensemble import RandomForestRegressor\n",
    "from sklearn.neural_network import MLPRegressor\n",
    "import xgboost as xgb"
   ]
  },
  {
   "cell_type": "code",
   "execution_count": 3,
   "id": "4cfe2003",
   "metadata": {},
   "outputs": [],
   "source": [
    "from sklearn.preprocessing import MinMaxScaler\n",
    "from sklearn.model_selection import GridSearchCV\n",
    "from sklearn.model_selection import PredefinedSplit\n",
    "import optuna"
   ]
  },
  {
   "cell_type": "code",
   "execution_count": 4,
   "id": "548df272",
   "metadata": {},
   "outputs": [],
   "source": [
    "import joblib\n",
    "import os"
   ]
  },
  {
   "cell_type": "markdown",
   "id": "c6e90fc0",
   "metadata": {},
   "source": [
    "# Tratamento dos dados"
   ]
  },
  {
   "cell_type": "code",
   "execution_count": 5,
   "id": "faa18071",
   "metadata": {},
   "outputs": [],
   "source": [
    "spotify_youtube_pt1 = pd.read_csv(\"Dados/spotify_youtube_up_pt1.csv\")\n",
    "spotify_youtube_pt2 = pd.read_csv(\"Dados/spotify_youtube_up_pt2.csv\")"
   ]
  },
  {
   "cell_type": "code",
   "execution_count": 6,
   "id": "aa3c7320",
   "metadata": {},
   "outputs": [],
   "source": [
    "data_extracao = pd.to_datetime(\"2023-02-07\")\n",
    "spotify_youtube_pt1[\"upload_date\"] = pd.to_datetime(spotify_youtube_pt1[\"upload_date\"])\n",
    "spotify_youtube_pt1[\"dias_na_plataforma\"] = (data_extracao - spotify_youtube_pt1[\"upload_date\"]).dt.days\n",
    "\n",
    "spotify_youtube_pt2[\"upload_date\"] = pd.to_datetime(spotify_youtube_pt2[\"upload_date\"])\n",
    "spotify_youtube_pt2[\"dias_na_plataforma\"] = (data_extracao - spotify_youtube_pt2[\"upload_date\"]).dt.days"
   ]
  },
  {
   "cell_type": "code",
   "execution_count": 7,
   "id": "bceec3ad",
   "metadata": {},
   "outputs": [],
   "source": [
    "spotify_youtube = pd.concat([spotify_youtube_pt1,spotify_youtube_pt2])"
   ]
  },
  {
   "cell_type": "code",
   "execution_count": 8,
   "id": "e7751227",
   "metadata": {},
   "outputs": [],
   "source": [
    "spotify_youtube_dummies= pd.get_dummies(spotify_youtube,columns=['Album_type'], dtype=int)"
   ]
  },
  {
   "cell_type": "code",
   "execution_count": 9,
   "id": "9af26e2e",
   "metadata": {},
   "outputs": [],
   "source": [
    "spotify_youtube_dummies['artist_number'] = spotify_youtube_dummies['Artist'].str.split(',').str.len()\n",
    "spotify_youtube_dummies['engagement_rate'] = spotify_youtube_dummies.apply(lambda row: (row['Likes'] + row['Comments']) / row['Views'] * 100 if row['Views'] > 0 else 0, axis=1)"
   ]
  },
  {
   "cell_type": "code",
   "execution_count": 10,
   "id": "18e7aa83",
   "metadata": {},
   "outputs": [],
   "source": [
    "columns_drop=['Unnamed: 0', 'Artist', 'Url_spotify', 'Track', 'Album', 'Uri','Url_youtube', 'Title', 'Channel', 'Views', 'Likes','Comments', 'Description', 'Licensed', 'official_video', 'upload_date']\n",
    "spotify_youtube_df=spotify_youtube_dummies.drop(columns=columns_drop)"
   ]
  },
  {
   "cell_type": "code",
   "execution_count": 11,
   "id": "e47b0b35",
   "metadata": {},
   "outputs": [],
   "source": [
    "spotify_youtube_limpo=spotify_youtube_df.dropna(subset=['Danceability','Energy','Key','Loudness','Speechiness','Acousticness', 'Instrumentalness','Liveness','Valence','Tempo','Duration_ms','Stream','engagement_rate'])"
   ]
  },
  {
   "cell_type": "markdown",
   "id": "49a93e8e",
   "metadata": {},
   "source": [
    "# Preparação dos dados para os experimentos"
   ]
  },
  {
   "cell_type": "code",
   "execution_count": 12,
   "id": "01f1f1ba",
   "metadata": {},
   "outputs": [],
   "source": [
    "youtube_30_df=spotify_youtube_limpo[spotify_youtube_limpo['dias_na_plataforma']<31]\n",
    "youtube_90_df=spotify_youtube_limpo[spotify_youtube_limpo['dias_na_plataforma']<91]\n",
    "youtube_365_df=spotify_youtube_limpo[spotify_youtube_limpo['dias_na_plataforma']<366]"
   ]
  },
  {
   "cell_type": "code",
   "execution_count": 13,
   "id": "f8728d8a",
   "metadata": {},
   "outputs": [],
   "source": [
    "spotify_youtube_df_366_more = spotify_youtube_limpo.drop(youtube_365_df.index)\n",
    "spotify_youtube_df_91_365 = youtube_365_df.drop(youtube_90_df.index)\n",
    "spotify_youtube_df_31_90 = youtube_365_df.drop(youtube_30_df.index)"
   ]
  },
  {
   "cell_type": "code",
   "execution_count": 14,
   "id": "1f439271",
   "metadata": {},
   "outputs": [],
   "source": [
    "youtube_30_df=youtube_30_df[youtube_30_df['engagement_rate']<9.338507725109846]\n",
    "spotify_youtube_df_31_90=spotify_youtube_df_31_90[spotify_youtube_df_31_90['engagement_rate']<4.602401258613792]\n",
    "spotify_youtube_df_91_365=spotify_youtube_df_91_365[spotify_youtube_df_91_365['engagement_rate']<4.253191569584401]\n",
    "spotify_youtube_df_366_more=spotify_youtube_df_366_more[spotify_youtube_df_366_more['engagement_rate']<2.251193229196198]"
   ]
  },
  {
   "cell_type": "code",
   "execution_count": 15,
   "id": "e18910a6",
   "metadata": {},
   "outputs": [],
   "source": [
    "youtube_30_df_x = youtube_30_df.drop('engagement_rate',axis=1)\n",
    "youtube_30_df_y = youtube_30_df['engagement_rate']\n",
    "\n",
    "spotify_youtube_df_31_90_x = spotify_youtube_df_31_90.drop('engagement_rate',axis=1)\n",
    "spotify_youtube_df_31_90_y = spotify_youtube_df_31_90['engagement_rate']\n",
    "\n",
    "spotify_youtube_df_91_365_x = spotify_youtube_df_91_365.drop('engagement_rate',axis=1)\n",
    "spotify_youtube_df_91_365_y = spotify_youtube_df_91_365['engagement_rate']\n",
    "\n",
    "spotify_youtube_df_366_more_x = spotify_youtube_df_366_more.drop('engagement_rate',axis=1)\n",
    "spotify_youtube_df_366_more_y = spotify_youtube_df_366_more['engagement_rate']"
   ]
  },
  {
   "cell_type": "code",
   "execution_count": 16,
   "id": "95e9e6da",
   "metadata": {},
   "outputs": [],
   "source": [
    "spotify_youtube_30X_train_val, spotify_youtube_30X_test, spotify_youtube_30y_train_val, spotify_youtube_30y_test = train_test_split(youtube_30_df_x, youtube_30_df_y, test_size=0.25, random_state=42)\n",
    "spotify_youtube_df_31_90X_train, spotify_youtube_df_31_90X_test, spotify_youtube_df_31_90y_train, spotify_youtube_df_31_90y_test = train_test_split(spotify_youtube_df_31_90_x, spotify_youtube_df_31_90_y, test_size=0.25, random_state=42)\n",
    "spotify_youtube_df_91_365X_train, spotify_youtube_df_91_365X_test, spotify_youtube_df_91_365y_train, spotify_youtube_df_91_365y_test = train_test_split(spotify_youtube_df_91_365_x, spotify_youtube_df_91_365_y, test_size=0.25, random_state=42)\n",
    "spotify_youtube_30X_train, spotify_youtube_30X_val, spotify_youtube_30y_train, spotify_youtube_30y_val = train_test_split(spotify_youtube_30X_train_val, spotify_youtube_30y_train_val, test_size=0.20, random_state=42)"
   ]
  },
  {
   "cell_type": "code",
   "execution_count": 17,
   "id": "b775c541",
   "metadata": {},
   "outputs": [],
   "source": [
    "# Dados de treino \n",
    "sy_x_train=pd.concat([spotify_youtube_30X_train,spotify_youtube_df_31_90X_train,spotify_youtube_df_91_365X_train,spotify_youtube_df_366_more_x])\n",
    "sy_y_train=pd.concat([spotify_youtube_30y_train,spotify_youtube_df_31_90y_train,spotify_youtube_df_91_365y_train,spotify_youtube_df_366_more_y])\n",
    "\n",
    "# Normalização do treino\n",
    "scaler_all = MinMaxScaler()\n",
    "sy_x_train_scaled = scaler_all.fit_transform(sy_x_train)"
   ]
  },
  {
   "cell_type": "code",
   "execution_count": 18,
   "id": "b007bb25",
   "metadata": {},
   "outputs": [],
   "source": [
    "# Normalização do treino de 30 dias\n",
    "sy_30_x_train_scaled = scaler_all.transform(spotify_youtube_30X_train)"
   ]
  },
  {
   "cell_type": "code",
   "execution_count": 19,
   "id": "51d3e706",
   "metadata": {},
   "outputs": [],
   "source": [
    "# Dados para treinar o modelo com dados de 0 a 90 dias\n",
    "sy_90_x_train=pd.concat([spotify_youtube_30X_train,spotify_youtube_df_31_90X_train])\n",
    "sy_90_y_train=pd.concat([spotify_youtube_30y_train,spotify_youtube_df_31_90y_train])\n",
    "\n",
    "# Normalização do treino de 90 dias\n",
    "sy_90_x_train_scaled = scaler_all.transform(sy_90_x_train)"
   ]
  },
  {
   "cell_type": "code",
   "execution_count": 20,
   "id": "e8d088d0",
   "metadata": {},
   "outputs": [],
   "source": [
    "# Dados para treinar o modelo com dados de 0 a 365 dias\n",
    "sy_365_x_train=pd.concat([spotify_youtube_30X_train,spotify_youtube_df_31_90X_train,spotify_youtube_df_91_365X_train])\n",
    "sy_365_y_train=pd.concat([spotify_youtube_30y_train,spotify_youtube_df_31_90y_train,spotify_youtube_df_91_365y_train])\n",
    "\n",
    "# Normalização do treino de 90 dias\n",
    "sy_365_x_train_scaled = scaler_all.transform(sy_365_x_train)"
   ]
  },
  {
   "cell_type": "code",
   "execution_count": 21,
   "id": "8d672c2c",
   "metadata": {},
   "outputs": [],
   "source": [
    "# Para testar o desempenho do modelo com videos com ate 30 dias\n",
    "sy_30_x_test=spotify_youtube_30X_test\n",
    "sy_30_y_test=spotify_youtube_30y_test\n",
    "\n",
    "# validação de 30 dias\n",
    "sy_30_x_val=spotify_youtube_30X_val\n",
    "sy_30_y_val=spotify_youtube_30y_val\n",
    "\n",
    "# Para testar o desempenho do modelo com videos com ate 90 dias\n",
    "sy_90_x_test=pd.concat([spotify_youtube_30X_test,spotify_youtube_df_31_90X_test])\n",
    "sy_90_y_test=pd.concat([spotify_youtube_30y_test,spotify_youtube_df_31_90y_test])\n",
    "\n",
    "# Para testar o desempenho do modelo com videos com ate 1 ano\n",
    "sy_365_x_test=pd.concat([spotify_youtube_30X_test,spotify_youtube_df_31_90X_test,spotify_youtube_df_91_365X_test])\n",
    "sy_365_y_test=pd.concat([spotify_youtube_30y_test,spotify_youtube_df_31_90y_test,spotify_youtube_df_91_365y_test])"
   ]
  },
  {
   "cell_type": "code",
   "execution_count": 22,
   "id": "4946da4a",
   "metadata": {},
   "outputs": [],
   "source": [
    "# Normalizção dos dados de teste de 30 dias\n",
    "sy_30_x_test_scaled = scaler_all.transform(sy_30_x_test)\n",
    "\n",
    "# Normalizção dos dados de teste de 90 dias\n",
    "sy_90_x_test_scaled = scaler_all.transform(sy_90_x_test)\n",
    "\n",
    "# Normalizção dos dados de teste de 365 dias\n",
    "sy_365_x_test_scaled = scaler_all.transform(sy_365_x_test)\n",
    "\n",
    "# Normalização dos dados de validação de 30 dias\n",
    "sy_30_x_val_scaled = scaler_all.transform(sy_30_x_val)"
   ]
  },
  {
   "cell_type": "markdown",
   "id": "aea9d9d0",
   "metadata": {},
   "source": [
    "# Tuning dos modelos"
   ]
  },
  {
   "cell_type": "markdown",
   "id": "2a76bf24",
   "metadata": {},
   "source": [
    "## Random Forest"
   ]
  },
  {
   "cell_type": "markdown",
   "id": "a3fb632b",
   "metadata": {},
   "source": [
    "Fazendo o tuning com GridSearch"
   ]
  },
  {
   "cell_type": "code",
   "execution_count": 36,
   "id": "082d3c87",
   "metadata": {},
   "outputs": [
    {
     "name": "stdout",
     "output_type": "stream",
     "text": [
      "Mean Squared Error (mse) on test data: 2.9452172749232077\n",
      "Modelo salvo em: Modelos\\best_random_forest_model_grid.pkl\n"
     ]
    }
   ],
   "source": [
    "# Definindo os hiperparâmetros para o GridSearch\n",
    "param_grid = {\n",
    "    'n_estimators': [50, 100, 200, 300, 400, 500],\n",
    "    'max_samples': [0.5, 0.75, 1.0],\n",
    "    'max_features': ['sqrt', 'log2'],\n",
    "    'max_depth': [10, 20, 30, 40, 50],\n",
    "    'min_samples_split': [2, 5, 10],\n",
    "    'min_samples_leaf': [1, 2, 4]\n",
    "}\n",
    "\n",
    "# Inicializando o modelo Random Forest\n",
    "rf = RandomForestRegressor(random_state=42)\n",
    "\n",
    "# Converte os arrays normalizados de volta para DataFrame\n",
    "sy_x_train_scaled_df = pd.DataFrame(sy_x_train_scaled, columns=sy_x_train.columns, index=sy_x_train.index)\n",
    "sy_30_x_val_scaled_df = pd.DataFrame(sy_30_x_val_scaled, columns=sy_30_x_val.columns, index=sy_30_x_val.index)\n",
    "\n",
    "# Junta treino e validação\n",
    "X_full = pd.concat([sy_x_train_scaled_df, sy_30_x_val_scaled_df])\n",
    "y_full = pd.concat([sy_y_train, sy_30_y_val])\n",
    "\n",
    "# Cria vetor de validação: -1 para treino, 0 para validação\n",
    "validation_fold = np.concatenate([\n",
    "    np.full(len(sy_x_train), -1),\n",
    "    np.zeros(len(sy_30_x_val))\n",
    "])\n",
    "\n",
    "# Cria o PredefinedSplit\n",
    "ps = PredefinedSplit(test_fold=validation_fold)\n",
    "\n",
    "# Configurando o GridSearchCV com PredefinedSplit\n",
    "grid_search = GridSearchCV(\n",
    "    estimator=rf,\n",
    "    param_grid=param_grid,\n",
    "    cv=ps,  # Passa o PredefinedSplit\n",
    "    scoring='neg_mean_squared_error',\n",
    "    verbose=0,\n",
    "    n_jobs=1\n",
    ")\n",
    "\n",
    "# Treinando o GridSearchCV\n",
    "grid_search.fit(X_full, y_full)\n",
    "\n",
    "# Obtendo o melhor modelo\n",
    "best_rf = grid_search.best_estimator_\n",
    "\n",
    "# Avaliando o modelo nos dados de teste\n",
    "sy_30_x_test_scaled_df = pd.DataFrame(\n",
    "    sy_30_x_test_scaled,\n",
    "    columns=sy_x_train.columns,\n",
    "    index=sy_30_x_test.index\n",
    ")\n",
    "predictions = best_rf.predict(sy_30_x_test_scaled_df)\n",
    "mse = mean_squared_error(sy_30_y_test, predictions)\n",
    "print(f\"Mean Squared Error (mse) on test data: {mse}\")\n",
    "\n",
    "# Salvando o modelo na pasta 'Modelos'\n",
    "os.makedirs('Modelos', exist_ok=True)\n",
    "model_path = os.path.join('Modelos', 'best_random_forest_model_grid.pkl')\n",
    "joblib.dump(best_rf, model_path)\n",
    "print(f\"Modelo salvo em: {model_path}\")"
   ]
  },
  {
   "cell_type": "markdown",
   "id": "01cfd575",
   "metadata": {},
   "source": [
    "Fazendo o tuning com Optuna"
   ]
  },
  {
   "cell_type": "code",
   "execution_count": 35,
   "id": "7da90913",
   "metadata": {},
   "outputs": [
    {
     "name": "stderr",
     "output_type": "stream",
     "text": [
      "[I 2025-04-21 18:41:19,427] A new study created in memory with name: no-name-a6adede2-6e97-44a2-b830-b9359b490f1d\n",
      "[I 2025-04-21 18:41:29,856] Trial 0 finished with value: 3.6594923027500004 and parameters: {'n_estimators': 350, 'max_depth': 30, 'min_samples_split': 8, 'min_samples_leaf': 3, 'max_samples': 0.95, 'max_features': 'log2'}. Best is trial 0 with value: 3.6594923027500004.\n",
      "[I 2025-04-21 18:41:37,267] Trial 1 finished with value: 3.8796388232432424 and parameters: {'n_estimators': 350, 'max_depth': 40, 'min_samples_split': 8, 'min_samples_leaf': 4, 'max_samples': 0.55, 'max_features': 'sqrt'}. Best is trial 0 with value: 3.6594923027500004.\n",
      "[I 2025-04-21 18:41:44,639] Trial 2 finished with value: 3.7630106068662728 and parameters: {'n_estimators': 350, 'max_depth': 10, 'min_samples_split': 10, 'min_samples_leaf': 3, 'max_samples': 0.9, 'max_features': 'log2'}. Best is trial 0 with value: 3.6594923027500004.\n",
      "[I 2025-04-21 18:41:51,941] Trial 3 finished with value: 3.8724071080785607 and parameters: {'n_estimators': 300, 'max_depth': 40, 'min_samples_split': 10, 'min_samples_leaf': 4, 'max_samples': 0.7, 'max_features': 'log2'}. Best is trial 0 with value: 3.6594923027500004.\n",
      "[I 2025-04-21 18:42:02,743] Trial 4 finished with value: 3.8446465724389722 and parameters: {'n_estimators': 450, 'max_depth': 40, 'min_samples_split': 6, 'min_samples_leaf': 4, 'max_samples': 0.7, 'max_features': 'log2'}. Best is trial 0 with value: 3.6594923027500004.\n",
      "[I 2025-04-21 18:42:13,171] Trial 5 finished with value: 3.5192230715077213 and parameters: {'n_estimators': 400, 'max_depth': 50, 'min_samples_split': 6, 'min_samples_leaf': 2, 'max_samples': 0.7, 'max_features': 'log2'}. Best is trial 5 with value: 3.5192230715077213.\n",
      "[I 2025-04-21 18:42:22,196] Trial 6 finished with value: 3.729997864420187 and parameters: {'n_estimators': 300, 'max_depth': 30, 'min_samples_split': 8, 'min_samples_leaf': 4, 'max_samples': 0.9, 'max_features': 'sqrt'}. Best is trial 5 with value: 3.5192230715077213.\n",
      "[I 2025-04-21 18:42:23,325] Trial 7 finished with value: 3.401322086889586 and parameters: {'n_estimators': 50, 'max_depth': 10, 'min_samples_split': 8, 'min_samples_leaf': 2, 'max_samples': 1.0, 'max_features': 'log2'}. Best is trial 7 with value: 3.401322086889586.\n",
      "[I 2025-04-21 18:42:24,377] Trial 8 finished with value: 3.8589968608670238 and parameters: {'n_estimators': 50, 'max_depth': 10, 'min_samples_split': 10, 'min_samples_leaf': 3, 'max_samples': 0.8, 'max_features': 'log2'}. Best is trial 7 with value: 3.401322086889586.\n",
      "[I 2025-04-21 18:42:26,578] Trial 9 finished with value: 3.8228965230744167 and parameters: {'n_estimators': 100, 'max_depth': 10, 'min_samples_split': 10, 'min_samples_leaf': 4, 'max_samples': 0.95, 'max_features': 'sqrt'}. Best is trial 7 with value: 3.401322086889586.\n",
      "[I 2025-04-21 18:42:30,459] Trial 10 finished with value: 3.499348846572363 and parameters: {'n_estimators': 150, 'max_depth': 20, 'min_samples_split': 2, 'min_samples_leaf': 1, 'max_samples': 0.5, 'max_features': 'sqrt'}. Best is trial 7 with value: 3.401322086889586.\n",
      "[I 2025-04-21 18:42:34,701] Trial 11 finished with value: 3.4576349606533907 and parameters: {'n_estimators': 150, 'max_depth': 20, 'min_samples_split': 2, 'min_samples_leaf': 1, 'max_samples': 0.55, 'max_features': 'sqrt'}. Best is trial 7 with value: 3.401322086889586.\n",
      "[I 2025-04-21 18:42:39,260] Trial 12 finished with value: 3.398128984425674 and parameters: {'n_estimators': 150, 'max_depth': 20, 'min_samples_split': 2, 'min_samples_leaf': 1, 'max_samples': 0.6, 'max_features': 'sqrt'}. Best is trial 12 with value: 3.398128984425674.\n",
      "[I 2025-04-21 18:42:45,552] Trial 13 finished with value: 3.469677842376108 and parameters: {'n_estimators': 200, 'max_depth': 20, 'min_samples_split': 4, 'min_samples_leaf': 2, 'max_samples': 0.8, 'max_features': 'sqrt'}. Best is trial 12 with value: 3.398128984425674.\n",
      "[I 2025-04-21 18:42:46,934] Trial 14 finished with value: 3.6095099982436065 and parameters: {'n_estimators': 50, 'max_depth': 20, 'min_samples_split': 4, 'min_samples_leaf': 1, 'max_samples': 0.6, 'max_features': 'log2'}. Best is trial 12 with value: 3.398128984425674.\n",
      "[I 2025-04-21 18:42:51,744] Trial 15 finished with value: 3.587434057887056 and parameters: {'n_estimators': 200, 'max_depth': 10, 'min_samples_split': 4, 'min_samples_leaf': 2, 'max_samples': 1.0, 'max_features': 'sqrt'}. Best is trial 12 with value: 3.398128984425674.\n",
      "[I 2025-04-21 18:42:57,151] Trial 16 finished with value: 3.54240747633527 and parameters: {'n_estimators': 200, 'max_depth': 20, 'min_samples_split': 6, 'min_samples_leaf': 1, 'max_samples': 0.65, 'max_features': 'sqrt'}. Best is trial 12 with value: 3.398128984425674.\n",
      "[I 2025-04-21 18:42:59,061] Trial 17 finished with value: 3.7636779054857943 and parameters: {'n_estimators': 100, 'max_depth': 10, 'min_samples_split': 2, 'min_samples_leaf': 2, 'max_samples': 0.8, 'max_features': 'log2'}. Best is trial 12 with value: 3.398128984425674.\n",
      "[I 2025-04-21 18:43:01,627] Trial 18 finished with value: 3.548637609933932 and parameters: {'n_estimators': 100, 'max_depth': 30, 'min_samples_split': 8, 'min_samples_leaf': 1, 'max_samples': 0.6, 'max_features': 'log2'}. Best is trial 12 with value: 3.398128984425674.\n",
      "[I 2025-04-21 18:43:18,815] Trial 19 finished with value: 3.5378063924219845 and parameters: {'n_estimators': 500, 'max_depth': 30, 'min_samples_split': 4, 'min_samples_leaf': 2, 'max_samples': 0.8500000000000001, 'max_features': 'sqrt'}. Best is trial 12 with value: 3.398128984425674.\n",
      "[I 2025-04-21 18:43:28,327] Trial 20 finished with value: 3.440600233037897 and parameters: {'n_estimators': 250, 'max_depth': 20, 'min_samples_split': 6, 'min_samples_leaf': 1, 'max_samples': 1.0, 'max_features': 'log2'}. Best is trial 12 with value: 3.398128984425674.\n",
      "[I 2025-04-21 18:43:37,267] Trial 21 finished with value: 3.513372667821716 and parameters: {'n_estimators': 250, 'max_depth': 20, 'min_samples_split': 8, 'min_samples_leaf': 1, 'max_samples': 1.0, 'max_features': 'log2'}. Best is trial 12 with value: 3.398128984425674.\n",
      "[I 2025-04-21 18:43:40,660] Trial 22 finished with value: 3.449611613456115 and parameters: {'n_estimators': 150, 'max_depth': 10, 'min_samples_split': 6, 'min_samples_leaf': 1, 'max_samples': 1.0, 'max_features': 'log2'}. Best is trial 12 with value: 3.398128984425674.\n",
      "[I 2025-04-21 18:43:48,989] Trial 23 finished with value: 3.5049875933247394 and parameters: {'n_estimators': 250, 'max_depth': 20, 'min_samples_split': 6, 'min_samples_leaf': 2, 'max_samples': 0.9, 'max_features': 'log2'}. Best is trial 12 with value: 3.398128984425674.\n",
      "[I 2025-04-21 18:43:50,797] Trial 24 finished with value: 3.5199194514429246 and parameters: {'n_estimators': 50, 'max_depth': 20, 'min_samples_split': 2, 'min_samples_leaf': 1, 'max_samples': 0.95, 'max_features': 'log2'}. Best is trial 12 with value: 3.398128984425674.\n",
      "[I 2025-04-21 18:43:52,496] Trial 25 finished with value: 3.582389548069036 and parameters: {'n_estimators': 100, 'max_depth': 10, 'min_samples_split': 4, 'min_samples_leaf': 2, 'max_samples': 0.75, 'max_features': 'log2'}. Best is trial 12 with value: 3.398128984425674.\n",
      "[I 2025-04-21 18:43:56,897] Trial 26 finished with value: 3.4666134000043836 and parameters: {'n_estimators': 150, 'max_depth': 20, 'min_samples_split': 8, 'min_samples_leaf': 1, 'max_samples': 0.8500000000000001, 'max_features': 'sqrt'}. Best is trial 12 with value: 3.398128984425674.\n",
      "[I 2025-04-21 18:44:00,349] Trial 27 finished with value: 3.7881997585147267 and parameters: {'n_estimators': 250, 'max_depth': 10, 'min_samples_split': 6, 'min_samples_leaf': 3, 'max_samples': 0.5, 'max_features': 'log2'}. Best is trial 12 with value: 3.398128984425674.\n",
      "[I 2025-04-21 18:44:06,646] Trial 28 finished with value: 3.536931439001067 and parameters: {'n_estimators': 200, 'max_depth': 30, 'min_samples_split': 8, 'min_samples_leaf': 2, 'max_samples': 0.95, 'max_features': 'sqrt'}. Best is trial 12 with value: 3.398128984425674.\n",
      "[I 2025-04-21 18:44:08,581] Trial 29 finished with value: 3.242310317865433 and parameters: {'n_estimators': 50, 'max_depth': 30, 'min_samples_split': 4, 'min_samples_leaf': 1, 'max_samples': 0.95, 'max_features': 'log2'}. Best is trial 29 with value: 3.242310317865433.\n",
      "[I 2025-04-21 18:44:09,979] Trial 30 finished with value: 3.5031777536610273 and parameters: {'n_estimators': 50, 'max_depth': 30, 'min_samples_split': 2, 'min_samples_leaf': 3, 'max_samples': 0.8500000000000001, 'max_features': 'log2'}. Best is trial 29 with value: 3.242310317865433.\n",
      "[I 2025-04-21 18:44:13,760] Trial 31 finished with value: 3.472613120510591 and parameters: {'n_estimators': 100, 'max_depth': 30, 'min_samples_split': 4, 'min_samples_leaf': 1, 'max_samples': 1.0, 'max_features': 'log2'}. Best is trial 29 with value: 3.242310317865433.\n",
      "[I 2025-04-21 18:44:15,557] Trial 32 finished with value: 3.122343625130685 and parameters: {'n_estimators': 50, 'max_depth': 40, 'min_samples_split': 4, 'min_samples_leaf': 1, 'max_samples': 0.95, 'max_features': 'log2'}. Best is trial 32 with value: 3.122343625130685.\n",
      "[I 2025-04-21 18:44:17,359] Trial 33 finished with value: 3.122343625130685 and parameters: {'n_estimators': 50, 'max_depth': 40, 'min_samples_split': 4, 'min_samples_leaf': 1, 'max_samples': 0.95, 'max_features': 'log2'}. Best is trial 32 with value: 3.122343625130685.\n",
      "[I 2025-04-21 18:44:19,194] Trial 34 finished with value: 3.2064551871574922 and parameters: {'n_estimators': 50, 'max_depth': 50, 'min_samples_split': 4, 'min_samples_leaf': 1, 'max_samples': 0.9, 'max_features': 'log2'}. Best is trial 32 with value: 3.122343625130685.\n",
      "[I 2025-04-21 18:44:20,916] Trial 35 finished with value: 3.2064551871574922 and parameters: {'n_estimators': 50, 'max_depth': 50, 'min_samples_split': 4, 'min_samples_leaf': 1, 'max_samples': 0.9, 'max_features': 'log2'}. Best is trial 32 with value: 3.122343625130685.\n",
      "[I 2025-04-21 18:44:24,430] Trial 36 finished with value: 3.355245372938509 and parameters: {'n_estimators': 100, 'max_depth': 50, 'min_samples_split': 4, 'min_samples_leaf': 1, 'max_samples': 0.9, 'max_features': 'log2'}. Best is trial 32 with value: 3.122343625130685.\n",
      "[I 2025-04-21 18:44:26,183] Trial 37 finished with value: 3.2064551871574922 and parameters: {'n_estimators': 50, 'max_depth': 40, 'min_samples_split': 4, 'min_samples_leaf': 1, 'max_samples': 0.9, 'max_features': 'log2'}. Best is trial 32 with value: 3.122343625130685.\n",
      "[I 2025-04-21 18:44:38,133] Trial 38 finished with value: 3.341599845371131 and parameters: {'n_estimators': 350, 'max_depth': 50, 'min_samples_split': 4, 'min_samples_leaf': 1, 'max_samples': 0.8500000000000001, 'max_features': 'log2'}. Best is trial 32 with value: 3.122343625130685.\n",
      "[I 2025-04-21 18:44:41,785] Trial 39 finished with value: 3.337133009698603 and parameters: {'n_estimators': 100, 'max_depth': 40, 'min_samples_split': 4, 'min_samples_leaf': 1, 'max_samples': 0.95, 'max_features': 'log2'}. Best is trial 32 with value: 3.122343625130685.\n",
      "[I 2025-04-21 18:44:43,466] Trial 40 finished with value: 3.4327313259992094 and parameters: {'n_estimators': 50, 'max_depth': 50, 'min_samples_split': 2, 'min_samples_leaf': 2, 'max_samples': 0.9, 'max_features': 'log2'}. Best is trial 32 with value: 3.122343625130685.\n",
      "[I 2025-04-21 18:44:45,133] Trial 41 finished with value: 3.2064551871574922 and parameters: {'n_estimators': 50, 'max_depth': 40, 'min_samples_split': 4, 'min_samples_leaf': 1, 'max_samples': 0.9, 'max_features': 'log2'}. Best is trial 32 with value: 3.122343625130685.\n",
      "[I 2025-04-21 18:44:46,966] Trial 42 finished with value: 3.122343625130685 and parameters: {'n_estimators': 50, 'max_depth': 40, 'min_samples_split': 4, 'min_samples_leaf': 1, 'max_samples': 0.95, 'max_features': 'log2'}. Best is trial 32 with value: 3.122343625130685.\n",
      "[I 2025-04-21 18:44:59,432] Trial 43 finished with value: 3.3753398987992496 and parameters: {'n_estimators': 400, 'max_depth': 40, 'min_samples_split': 6, 'min_samples_leaf': 1, 'max_samples': 0.95, 'max_features': 'log2'}. Best is trial 32 with value: 3.122343625130685.\n",
      "[I 2025-04-21 18:45:02,784] Trial 44 finished with value: 3.337133009698603 and parameters: {'n_estimators': 100, 'max_depth': 50, 'min_samples_split': 4, 'min_samples_leaf': 1, 'max_samples': 0.95, 'max_features': 'log2'}. Best is trial 32 with value: 3.122343625130685.\n",
      "[I 2025-04-21 18:45:04,384] Trial 45 finished with value: 3.4679181829184613 and parameters: {'n_estimators': 50, 'max_depth': 40, 'min_samples_split': 4, 'min_samples_leaf': 1, 'max_samples': 0.8500000000000001, 'max_features': 'log2'}. Best is trial 32 with value: 3.122343625130685.\n",
      "[I 2025-04-21 18:45:07,517] Trial 46 finished with value: 3.375235604162692 and parameters: {'n_estimators': 100, 'max_depth': 50, 'min_samples_split': 2, 'min_samples_leaf': 1, 'max_samples': 0.75, 'max_features': 'log2'}. Best is trial 32 with value: 3.122343625130685.\n",
      "[I 2025-04-21 18:45:12,027] Trial 47 finished with value: 3.475990155666832 and parameters: {'n_estimators': 150, 'max_depth': 40, 'min_samples_split': 4, 'min_samples_leaf': 1, 'max_samples': 0.8, 'max_features': 'log2'}. Best is trial 32 with value: 3.122343625130685.\n",
      "[I 2025-04-21 18:45:13,478] Trial 48 finished with value: 3.2953730465222004 and parameters: {'n_estimators': 50, 'max_depth': 50, 'min_samples_split': 6, 'min_samples_leaf': 2, 'max_samples': 0.9, 'max_features': 'log2'}. Best is trial 32 with value: 3.122343625130685.\n",
      "[I 2025-04-21 18:45:15,145] Trial 49 finished with value: 3.122343625130685 and parameters: {'n_estimators': 50, 'max_depth': 40, 'min_samples_split': 4, 'min_samples_leaf': 1, 'max_samples': 0.95, 'max_features': 'log2'}. Best is trial 32 with value: 3.122343625130685.\n"
     ]
    },
    {
     "name": "stdout",
     "output_type": "stream",
     "text": [
      "Melhores hiperparâmetros: {'n_estimators': 50, 'max_depth': 40, 'min_samples_split': 4, 'min_samples_leaf': 1, 'max_samples': 0.95, 'max_features': 'log2'}\n",
      "Mean Squared Error (MSE) on test data: 2.951254082497033\n",
      "Modelo salvo em: Modelos\\best_random_forest_model_optuna.pkl\n"
     ]
    }
   ],
   "source": [
    "# Converte os arrays normalizados de volta para DataFrame\n",
    "sy_x_train_scaled_df = pd.DataFrame(sy_x_train_scaled, columns=sy_x_train.columns, index=sy_x_train.index)\n",
    "sy_30_x_val_scaled_df = pd.DataFrame(sy_30_x_val_scaled, columns=sy_30_x_val.columns, index=sy_30_x_val.index)\n",
    "\n",
    "# Junta treino e validação\n",
    "X_full = pd.concat([sy_x_train_scaled_df, sy_30_x_val_scaled_df])\n",
    "y_full = pd.concat([sy_y_train, sy_30_y_val])\n",
    "\n",
    "# Cria vetor de validação: -1 para treino, 0 para validação\n",
    "validation_fold = np.concatenate([\n",
    "    np.full(len(sy_x_train), -1),\n",
    "    np.zeros(len(sy_30_x_val))\n",
    "])\n",
    "\n",
    "# Cria o PredefinedSplit\n",
    "ps = PredefinedSplit(test_fold=validation_fold)\n",
    "\n",
    "# Função objetivo para o Optuna\n",
    "def objective(trial):\n",
    "    # Sugerindo os hiperparâmetros\n",
    "    n_estimators = trial.suggest_int(\"n_estimators\", 50, 500, step=50)\n",
    "    max_depth = trial.suggest_int(\"max_depth\", 10, 50, step=10)\n",
    "    min_samples_split = trial.suggest_int(\"min_samples_split\", 2, 10, step=2)\n",
    "    min_samples_leaf = trial.suggest_int(\"min_samples_leaf\", 1, 4, step=1)\n",
    "    max_samples = trial.suggest_float(\"max_samples\", 0.5, 1.0, step=0.05)\n",
    "    max_features = trial.suggest_categorical(\"max_features\", ['sqrt', 'log2'])\n",
    "\n",
    "\n",
    "    \n",
    "    \n",
    "\n",
    "    # Criando o modelo com os hiperparâmetros sugeridos\n",
    "    rf = RandomForestRegressor(\n",
    "        n_estimators=n_estimators,\n",
    "        max_depth=max_depth,\n",
    "        min_samples_split=min_samples_split,\n",
    "        min_samples_leaf=min_samples_leaf,\n",
    "        max_samples=max_samples,\n",
    "        max_features=max_features,\n",
    "        \n",
    "        \n",
    "        random_state=42\n",
    "    )\n",
    "\n",
    "    # Treinando o modelo nos dados de treino\n",
    "    rf.fit(X_full[ps.test_fold == -1], y_full[ps.test_fold == -1])\n",
    "\n",
    "    # Avaliando o modelo nos dados de validação\n",
    "    predictions = rf.predict(X_full[ps.test_fold == 0])\n",
    "    mse = mean_squared_error(y_full[ps.test_fold == 0], predictions)\n",
    "\n",
    "    return mse  # O objetivo é minimizar o MSE\n",
    "\n",
    "# Criando o estudo do Optuna\n",
    "study = optuna.create_study(direction=\"minimize\")\n",
    "study.optimize(objective, n_trials=50)  # Número de tentativas\n",
    "\n",
    "# Obtendo os melhores hiperparâmetros\n",
    "best_params = study.best_params\n",
    "print(\"Melhores hiperparâmetros:\", best_params)\n",
    "\n",
    "# Treinando o modelo final com os melhores hiperparâmetros\n",
    "best_rf = RandomForestRegressor(\n",
    "    n_estimators=best_params[\"n_estimators\"],\n",
    "    max_depth=best_params[\"max_depth\"],\n",
    "    min_samples_split=best_params[\"min_samples_split\"],\n",
    "    min_samples_leaf=best_params[\"min_samples_leaf\"],\n",
    "    random_state=42\n",
    ")\n",
    "best_rf.fit(sy_x_train_scaled, sy_y_train)\n",
    "\n",
    "# Avaliando o modelo nos dados de teste\n",
    "predictions = best_rf.predict(sy_30_x_test_scaled)\n",
    "mse = mean_squared_error(sy_30_y_test, predictions)\n",
    "print(f\"Mean Squared Error (MSE) on test data: {mse}\")\n",
    "\n",
    "# Salvando o modelo na pasta 'Modelos'\n",
    "os.makedirs('Modelos', exist_ok=True)\n",
    "model_path = os.path.join('Modelos', 'best_random_forest_model_optuna.pkl')\n",
    "joblib.dump(best_rf, model_path)\n",
    "print(f\"Modelo salvo em: {model_path}\")"
   ]
  },
  {
   "cell_type": "markdown",
   "id": "f14727e8",
   "metadata": {},
   "source": [
    "## Linear Regressor"
   ]
  },
  {
   "cell_type": "markdown",
   "id": "ac61e257",
   "metadata": {},
   "source": [
    "Fazendo tuning com GridSearch"
   ]
  },
  {
   "cell_type": "code",
   "execution_count": 47,
   "id": "a2c1c9d4",
   "metadata": {},
   "outputs": [
    {
     "name": "stdout",
     "output_type": "stream",
     "text": [
      "Fitting 1 folds for each of 1 candidates, totalling 1 fits\n",
      "Mean Squared Error (mse) on test data: 6.18329638505496\n",
      "Modelo salvo em: Modelos\\best_Linear_Regressor_model_grid.pkl\n"
     ]
    },
    {
     "name": "stderr",
     "output_type": "stream",
     "text": [
      "c:\\Faculdade\\TCC_Music\\TCC_Music\\.venv\\Lib\\site-packages\\sklearn\\utils\\validation.py:2739: UserWarning: X does not have valid feature names, but LinearRegression was fitted with feature names\n",
      "  warnings.warn(\n"
     ]
    }
   ],
   "source": [
    "# Definindo os hiperparâmetros para o GridSearch\n",
    "param_grid = {\n",
    "    'n_estimators': [50, 100, 200],\n",
    "    'max_depth': [10, 20, 30],\n",
    "    'min_samples_split': [2, 5, 10],\n",
    "    'min_samples_leaf': [1, 2, 4]\n",
    "}\n",
    "\n",
    "# Inicializando o modelo Random Forest\n",
    "lin_reg = LinearRegression() # Regressor logistico\n",
    "\n",
    "# Converte os arrays normalizados de volta para DataFrame\n",
    "sy_x_train_scaled_df = pd.DataFrame(sy_x_train_scaled, columns=sy_x_train.columns, index=sy_x_train.index)\n",
    "sy_30_x_val_scaled_df = pd.DataFrame(sy_30_x_val_scaled, columns=sy_30_x_val.columns, index=sy_30_x_val.index)\n",
    "\n",
    "# Junta treino e validação\n",
    "X_full = pd.concat([sy_x_train_scaled_df, sy_30_x_val_scaled_df])\n",
    "y_full = pd.concat([sy_y_train, sy_30_y_val])\n",
    "\n",
    "# Cria vetor de validação: -1 para treino, 0 para validação\n",
    "validation_fold = np.concatenate([\n",
    "    np.full(len(sy_x_train), -1),\n",
    "    np.zeros(len(sy_30_x_val))\n",
    "])\n",
    "\n",
    "# Cria o PredefinedSplit\n",
    "ps = PredefinedSplit(test_fold=validation_fold)\n",
    "\n",
    "# Configurando o GridSearchCV com PredefinedSplit\n",
    "grid_search = GridSearchCV(\n",
    "    estimator=lin_reg,\n",
    "    param_grid={},  # Sem hiperparâmetros para ajustar\n",
    "    cv=ps,  # Passa o PredefinedSplit\n",
    "    scoring='neg_mean_squared_error',\n",
    "    verbose=3,\n",
    "    n_jobs=-1,\n",
    ")\n",
    "\n",
    "# Treinando o GridSearchCV\n",
    "grid_search.fit(X_full, y_full)\n",
    "\n",
    "# Obtendo o melhor modelo\n",
    "best_lin_reg = grid_search.best_estimator_\n",
    "\n",
    "# Avaliando o modelo nos dados de teste\n",
    "predictions = best_lin_reg.predict(sy_30_x_test_scaled)\n",
    "mse = mean_squared_error(sy_30_y_test, predictions)\n",
    "print(f\"Mean Squared Error (mse) on test data: {mse}\")\n",
    "\n",
    "# Salvando o modelo na pasta 'Modelos'\n",
    "os.makedirs('Modelos', exist_ok=True)\n",
    "model_path = os.path.join('Modelos', 'best_Linear_Regressor_model_grid.pkl')\n",
    "joblib.dump(best_lin_reg, model_path)\n",
    "print(f\"Modelo salvo em: {model_path}\")"
   ]
  },
  {
   "cell_type": "markdown",
   "id": "639f0e7e",
   "metadata": {},
   "source": [
    "Fazendo o Tuning com Optuna"
   ]
  },
  {
   "cell_type": "code",
   "execution_count": 48,
   "id": "844bcacd",
   "metadata": {},
   "outputs": [
    {
     "name": "stderr",
     "output_type": "stream",
     "text": [
      "[I 2025-04-17 15:47:13,647] A new study created in memory with name: no-name-8decee07-315f-4476-8cb2-7e5be21e71fa\n",
      "[I 2025-04-17 15:47:13,671] Trial 0 finished with value: 7.789384479414533 and parameters: {}. Best is trial 0 with value: 7.789384479414533.\n"
     ]
    },
    {
     "name": "stdout",
     "output_type": "stream",
     "text": [
      "Mean Squared Error (MSE) on test data: 6.245837740756641\n",
      "Modelo salvo em: Modelos\\best_linear_regressor_model_optuna.pkl\n"
     ]
    }
   ],
   "source": [
    "# Converte os arrays normalizados de volta para DataFrame\n",
    "sy_x_train_scaled_df = pd.DataFrame(sy_x_train_scaled, columns=sy_x_train.columns, index=sy_x_train.index)\n",
    "sy_30_x_val_scaled_df = pd.DataFrame(sy_30_x_val_scaled, columns=sy_30_x_val.columns, index=sy_30_x_val.index)\n",
    "\n",
    "# Junta treino e validação\n",
    "X_full = pd.concat([sy_x_train_scaled_df, sy_30_x_val_scaled_df])\n",
    "y_full = pd.concat([sy_y_train, sy_30_y_val])\n",
    "\n",
    "# Cria vetor de validação: -1 para treino, 0 para validação\n",
    "validation_fold = np.concatenate([\n",
    "    np.full(len(sy_x_train), -1),\n",
    "    np.zeros(len(sy_30_x_val))\n",
    "])\n",
    "\n",
    "# Cria o PredefinedSplit\n",
    "ps = PredefinedSplit(test_fold=validation_fold)\n",
    "\n",
    "# Função objetivo para o Optuna\n",
    "def objective(trial):\n",
    "    # Inicializando o modelo Linear Regression\n",
    "    lin_reg = LinearRegression()\n",
    "\n",
    "    # Treinando o modelo nos dados de treino\n",
    "    lin_reg.fit(X_full[ps.test_fold == -1], y_full[ps.test_fold == -1])\n",
    "\n",
    "    # Avaliando o modelo nos dados de validação\n",
    "    predictions = lin_reg.predict(X_full[ps.test_fold == 0])\n",
    "    mse = mean_squared_error(y_full[ps.test_fold == 0], predictions)\n",
    "\n",
    "    return mse  # O objetivo é minimizar o MSE\n",
    "\n",
    "# Criando o estudo do Optuna\n",
    "study = optuna.create_study(direction=\"minimize\")\n",
    "study.optimize(objective, n_trials=1)  # Apenas 1 tentativa, pois não há hiperparâmetros para ajustar\n",
    "\n",
    "# Treinando o modelo final\n",
    "best_lin_reg = LinearRegression()\n",
    "best_lin_reg.fit(sy_x_train_scaled, sy_y_train)\n",
    "\n",
    "# Avaliando o modelo nos dados de teste\n",
    "predictions = best_lin_reg.predict(sy_30_x_test_scaled)\n",
    "mse = mean_squared_error(sy_30_y_test, predictions)\n",
    "print(f\"Mean Squared Error (MSE) on test data: {mse}\")\n",
    "\n",
    "# Salvando o modelo na pasta 'Modelos'\n",
    "os.makedirs('Modelos', exist_ok=True)\n",
    "model_path = os.path.join('Modelos', 'best_linear_regressor_model_optuna.pkl')\n",
    "joblib.dump(best_lin_reg, model_path)\n",
    "print(f\"Modelo salvo em: {model_path}\")"
   ]
  },
  {
   "cell_type": "markdown",
   "id": "89f81974",
   "metadata": {},
   "source": [
    "## XGBoost"
   ]
  },
  {
   "cell_type": "markdown",
   "id": "4aedd25c",
   "metadata": {},
   "source": [
    "GridSearch"
   ]
  },
  {
   "cell_type": "code",
   "execution_count": 29,
   "id": "30b29891",
   "metadata": {},
   "outputs": [
    {
     "name": "stdout",
     "output_type": "stream",
     "text": [
      "Fitting 1 folds for each of 5280 candidates, totalling 5280 fits\n",
      "Mean Squared Error (mse) on test data: 2.795087678116888\n",
      "Modelo salvo em: Modelos\\best_xgb_model_grid.pkl\n"
     ]
    }
   ],
   "source": [
    "# Definindo os hiperparâmetros para o GridSearch\n",
    "param_grid = {\n",
    "    'n_estimators': [50, 100, 200, 300, 400, 500,600,700,800,900,1000],\n",
    "    'learning_rate': [0.001, 0.01, 0.1, 0.2],\n",
    "    'gamma': [0, 0.1, 0.2, 0.3],\n",
    "    'min_child_weight': [1, 2, 3],\n",
    "    'subsample': [0.8, 1.0],  # mantido apenas uma vez\n",
    "    'max_depth': [3, 5, 7, 9, 11],\n",
    "}\n",
    "\n",
    "# Inicializando o modelo Random Forest\n",
    "xgb_reg = LinearRegression() # Regressor logistico\n",
    "xgb_reg = xgb.XGBRegressor(objective='reg:squarederror', random_state=42)\n",
    "\n",
    "# Converte os arrays normalizados de volta para DataFrame\n",
    "sy_x_train_scaled_df = pd.DataFrame(sy_x_train_scaled, columns=sy_x_train.columns, index=sy_x_train.index)\n",
    "sy_30_x_val_scaled_df = pd.DataFrame(sy_30_x_val_scaled, columns=sy_30_x_val.columns, index=sy_30_x_val.index)\n",
    "\n",
    "# Junta treino e validação\n",
    "X_full = pd.concat([sy_x_train_scaled_df, sy_30_x_val_scaled_df])\n",
    "y_full = pd.concat([sy_y_train, sy_30_y_val])\n",
    "\n",
    "# Cria vetor de validação: -1 para treino, 0 para validação\n",
    "validation_fold = np.concatenate([\n",
    "    np.full(len(sy_x_train), -1),\n",
    "    np.zeros(len(sy_30_x_val))\n",
    "])\n",
    "\n",
    "# Cria o PredefinedSplit\n",
    "ps = PredefinedSplit(test_fold=validation_fold)\n",
    "\n",
    "# Configurando o GridSearchCV com PredefinedSplit\n",
    "grid_search = GridSearchCV(\n",
    "    estimator=xgb_reg,\n",
    "    param_grid=param_grid,\n",
    "    scoring='neg_mean_squared_error',  # Métrica de avaliação\n",
    "    cv=ps,  # Número de folds para validação cruzada\n",
    "    verbose=1,  # Mostra o progresso do tuning\n",
    "    n_jobs=1  # Usa todos os núcleos disponíveis\n",
    ")\n",
    "\n",
    "# Treinando o GridSearchCV\n",
    "grid_search.fit(X_full, y_full)\n",
    "\n",
    "# Obtendo o melhor modelo\n",
    "\n",
    "best_xgb_reg = grid_search.best_estimator_\n",
    "\n",
    "# Avaliando o modelo nos dados de teste\n",
    "predictions = best_xgb_reg.predict(sy_30_x_test_scaled)\n",
    "mse = mean_squared_error(sy_30_y_test, predictions)\n",
    "print(f\"Mean Squared Error (mse) on test data: {mse}\")\n",
    "\n",
    "# Salvando o modelo na pasta 'Modelos'\n",
    "os.makedirs('Modelos', exist_ok=True)\n",
    "model_path = os.path.join('Modelos', 'best_xgb_model_grid.pkl')\n",
    "joblib.dump(best_xgb_reg, model_path)\n",
    "print(f\"Modelo salvo em: {model_path}\")"
   ]
  },
  {
   "cell_type": "markdown",
   "id": "6255e2b8",
   "metadata": {},
   "source": [
    "Optuna"
   ]
  },
  {
   "cell_type": "code",
   "execution_count": 30,
   "id": "eab488c6",
   "metadata": {},
   "outputs": [
    {
     "name": "stderr",
     "output_type": "stream",
     "text": [
      "[I 2025-04-24 14:19:00,280] A new study created in memory with name: no-name-d0c9ec92-0047-421f-aae5-462d1c780571\n",
      "[I 2025-04-24 14:19:01,015] Trial 0 finished with value: 2.9025841908281023 and parameters: {'n_estimators': 250, 'max_depth': 7, 'learning_rate': 0.0485, 'subsample': 0.8, 'gamma': 0.1, 'min_child_weight': 7}. Best is trial 0 with value: 2.9025841908281023.\n",
      "[I 2025-04-24 14:19:01,633] Trial 1 finished with value: 3.101864530634946 and parameters: {'n_estimators': 900, 'max_depth': 9, 'learning_rate': 0.10250000000000001, 'subsample': 0.9, 'gamma': 0.5, 'min_child_weight': 9}. Best is trial 0 with value: 2.9025841908281023.\n",
      "[I 2025-04-24 14:19:01,911] Trial 2 finished with value: 3.3768841974123456 and parameters: {'n_estimators': 50, 'max_depth': 8, 'learning_rate': 0.1, 'subsample': 0.9, 'gamma': 0.0, 'min_child_weight': 1}. Best is trial 0 with value: 2.9025841908281023.\n",
      "[I 2025-04-24 14:19:02,453] Trial 3 finished with value: 3.1724126058006505 and parameters: {'n_estimators': 200, 'max_depth': 7, 'learning_rate': 0.243, 'subsample': 0.9, 'gamma': 0.0, 'min_child_weight': 4}. Best is trial 0 with value: 2.9025841908281023.\n",
      "[I 2025-04-24 14:19:03,366] Trial 4 finished with value: 3.0702755244313273 and parameters: {'n_estimators': 950, 'max_depth': 4, 'learning_rate': 0.1535, 'subsample': 0.7, 'gamma': 0.0, 'min_child_weight': 5}. Best is trial 0 with value: 2.9025841908281023.\n",
      "[I 2025-04-24 14:19:03,527] Trial 5 finished with value: 2.817776024573238 and parameters: {'n_estimators': 200, 'max_depth': 3, 'learning_rate': 0.2295, 'subsample': 0.7, 'gamma': 0.1, 'min_child_weight': 6}. Best is trial 5 with value: 2.817776024573238.\n",
      "[I 2025-04-24 14:19:03,615] Trial 6 finished with value: 3.2863103203366713 and parameters: {'n_estimators': 50, 'max_depth': 5, 'learning_rate': 0.089, 'subsample': 0.9, 'gamma': 0.0, 'min_child_weight': 2}. Best is trial 5 with value: 2.817776024573238.\n",
      "[I 2025-04-24 14:19:03,996] Trial 7 finished with value: 2.82751893593652 and parameters: {'n_estimators': 550, 'max_depth': 3, 'learning_rate': 0.196, 'subsample': 0.9, 'gamma': 0.30000000000000004, 'min_child_weight': 9}. Best is trial 5 with value: 2.817776024573238.\n",
      "[I 2025-04-24 14:19:04,348] Trial 8 finished with value: 3.2148994025260293 and parameters: {'n_estimators': 1000, 'max_depth': 4, 'learning_rate': 0.199, 'subsample': 1.0, 'gamma': 0.5, 'min_child_weight': 6}. Best is trial 5 with value: 2.817776024573238.\n",
      "[I 2025-04-24 14:19:06,662] Trial 9 finished with value: 3.098422442697275 and parameters: {'n_estimators': 950, 'max_depth': 7, 'learning_rate': 0.253, 'subsample': 1.0, 'gamma': 0.0, 'min_child_weight': 1}. Best is trial 5 with value: 2.817776024573238.\n",
      "[I 2025-04-24 14:19:07,222] Trial 10 finished with value: 3.429502371168293 and parameters: {'n_estimators': 500, 'max_depth': 10, 'learning_rate': 0.2945, 'subsample': 0.6, 'gamma': 0.2, 'min_child_weight': 3}. Best is trial 5 with value: 2.817776024573238.\n",
      "[I 2025-04-24 14:19:07,703] Trial 11 finished with value: 3.197392145162695 and parameters: {'n_estimators': 600, 'max_depth': 3, 'learning_rate': 0.1855, 'subsample': 0.7, 'gamma': 0.30000000000000004, 'min_child_weight': 10}. Best is trial 5 with value: 2.817776024573238.\n",
      "[I 2025-04-24 14:19:08,147] Trial 12 finished with value: 3.2020060316253924 and parameters: {'n_estimators': 550, 'max_depth': 3, 'learning_rate': 0.2175, 'subsample': 0.7, 'gamma': 0.30000000000000004, 'min_child_weight': 8}. Best is trial 5 with value: 2.817776024573238.\n",
      "[I 2025-04-24 14:19:08,543] Trial 13 finished with value: 3.1964546889469396 and parameters: {'n_estimators': 400, 'max_depth': 5, 'learning_rate': 0.3, 'subsample': 0.8, 'gamma': 0.2, 'min_child_weight': 7}. Best is trial 5 with value: 2.817776024573238.\n",
      "[I 2025-04-24 14:19:09,211] Trial 14 finished with value: 3.04974443291201 and parameters: {'n_estimators': 750, 'max_depth': 5, 'learning_rate': 0.157, 'subsample': 0.6, 'gamma': 0.4, 'min_child_weight': 10}. Best is trial 5 with value: 2.817776024573238.\n",
      "[I 2025-04-24 14:19:09,477] Trial 15 finished with value: 3.016642365451404 and parameters: {'n_estimators': 300, 'max_depth': 3, 'learning_rate': 0.2495, 'subsample': 0.8, 'gamma': 0.1, 'min_child_weight': 8}. Best is trial 5 with value: 2.817776024573238.\n",
      "[I 2025-04-24 14:19:10,048] Trial 16 finished with value: 3.2928307409400723 and parameters: {'n_estimators': 700, 'max_depth': 4, 'learning_rate': 0.17650000000000002, 'subsample': 0.7, 'gamma': 0.4, 'min_child_weight': 5}. Best is trial 5 with value: 2.817776024573238.\n",
      "[I 2025-04-24 14:19:10,798] Trial 17 finished with value: 3.26490114324937 and parameters: {'n_estimators': 400, 'max_depth': 6, 'learning_rate': 0.0085, 'subsample': 1.0, 'gamma': 0.1, 'min_child_weight': 6}. Best is trial 5 with value: 2.817776024573238.\n",
      "[I 2025-04-24 14:19:11,422] Trial 18 finished with value: 2.506445619306393 and parameters: {'n_estimators': 800, 'max_depth': 3, 'learning_rate': 0.127, 'subsample': 0.6, 'gamma': 0.2, 'min_child_weight': 8}. Best is trial 18 with value: 2.506445619306393.\n",
      "[I 2025-04-24 14:19:12,297] Trial 19 finished with value: 2.8355507308768066 and parameters: {'n_estimators': 800, 'max_depth': 6, 'learning_rate': 0.1285, 'subsample': 0.6, 'gamma': 0.2, 'min_child_weight': 7}. Best is trial 18 with value: 2.506445619306393.\n",
      "[I 2025-04-24 14:19:12,493] Trial 20 finished with value: 3.1623224378979105 and parameters: {'n_estimators': 150, 'max_depth': 4, 'learning_rate': 0.061, 'subsample': 0.6, 'gamma': 0.1, 'min_child_weight': 4}. Best is trial 18 with value: 2.506445619306393.\n",
      "[I 2025-04-24 14:19:13,006] Trial 21 finished with value: 2.6980387253306204 and parameters: {'n_estimators': 650, 'max_depth': 3, 'learning_rate': 0.1345, 'subsample': 0.7, 'gamma': 0.30000000000000004, 'min_child_weight': 9}. Best is trial 18 with value: 2.506445619306393.\n",
      "[I 2025-04-24 14:19:13,514] Trial 22 finished with value: 2.7652218817227934 and parameters: {'n_estimators': 650, 'max_depth': 3, 'learning_rate': 0.125, 'subsample': 0.7, 'gamma': 0.2, 'min_child_weight': 8}. Best is trial 18 with value: 2.506445619306393.\n",
      "[I 2025-04-24 14:19:14,134] Trial 23 finished with value: 2.864783500462718 and parameters: {'n_estimators': 650, 'max_depth': 4, 'learning_rate': 0.1295, 'subsample': 0.6, 'gamma': 0.4, 'min_child_weight': 9}. Best is trial 18 with value: 2.506445619306393.\n",
      "[I 2025-04-24 14:19:14,987] Trial 24 finished with value: 3.0267680952530234 and parameters: {'n_estimators': 850, 'max_depth': 5, 'learning_rate': 0.1295, 'subsample': 0.7, 'gamma': 0.2, 'min_child_weight': 8}. Best is trial 18 with value: 2.506445619306393.\n",
      "[I 2025-04-24 14:19:15,531] Trial 25 finished with value: 2.855231543255396 and parameters: {'n_estimators': 700, 'max_depth': 3, 'learning_rate': 0.060500000000000005, 'subsample': 0.7, 'gamma': 0.30000000000000004, 'min_child_weight': 10}. Best is trial 18 with value: 2.506445619306393.\n",
      "[I 2025-04-24 14:19:16,333] Trial 26 finished with value: 2.6706939070322973 and parameters: {'n_estimators': 800, 'max_depth': 4, 'learning_rate': 0.0805, 'subsample': 0.6, 'gamma': 0.2, 'min_child_weight': 8}. Best is trial 18 with value: 2.506445619306393.\n",
      "[I 2025-04-24 14:19:17,113] Trial 27 finished with value: 2.885764442069795 and parameters: {'n_estimators': 800, 'max_depth': 4, 'learning_rate': 0.0275, 'subsample': 0.6, 'gamma': 0.30000000000000004, 'min_child_weight': 9}. Best is trial 18 with value: 2.506445619306393.\n",
      "[I 2025-04-24 14:19:17,977] Trial 28 finished with value: 2.794530463008782 and parameters: {'n_estimators': 800, 'max_depth': 6, 'learning_rate': 0.0795, 'subsample': 0.6, 'gamma': 0.4, 'min_child_weight': 7}. Best is trial 18 with value: 2.506445619306393.\n",
      "[I 2025-04-24 14:19:19,126] Trial 29 finished with value: 2.843177617360251 and parameters: {'n_estimators': 850, 'max_depth': 5, 'learning_rate': 0.034, 'subsample': 0.6, 'gamma': 0.2, 'min_child_weight': 7}. Best is trial 18 with value: 2.506445619306393.\n",
      "[I 2025-04-24 14:19:19,599] Trial 30 finished with value: 2.9131514408235812 and parameters: {'n_estimators': 450, 'max_depth': 4, 'learning_rate': 0.11, 'subsample': 0.6, 'gamma': 0.30000000000000004, 'min_child_weight': 9}. Best is trial 18 with value: 2.506445619306393.\n",
      "[I 2025-04-24 14:19:20,119] Trial 31 finished with value: 2.80589204020823 and parameters: {'n_estimators': 650, 'max_depth': 3, 'learning_rate': 0.1395, 'subsample': 0.7, 'gamma': 0.2, 'min_child_weight': 8}. Best is trial 18 with value: 2.506445619306393.\n",
      "[I 2025-04-24 14:19:20,671] Trial 32 finished with value: 2.715109375751813 and parameters: {'n_estimators': 700, 'max_depth': 3, 'learning_rate': 0.11, 'subsample': 0.8, 'gamma': 0.2, 'min_child_weight': 8}. Best is trial 18 with value: 2.506445619306393.\n",
      "[I 2025-04-24 14:19:21,246] Trial 33 finished with value: 2.6186943639843507 and parameters: {'n_estimators': 750, 'max_depth': 3, 'learning_rate': 0.083, 'subsample': 0.8, 'gamma': 0.2, 'min_child_weight': 9}. Best is trial 18 with value: 2.506445619306393.\n",
      "[I 2025-04-24 14:19:22,481] Trial 34 finished with value: 2.7952502708401106 and parameters: {'n_estimators': 850, 'max_depth': 9, 'learning_rate': 0.08, 'subsample': 0.8, 'gamma': 0.1, 'min_child_weight': 10}. Best is trial 18 with value: 2.506445619306393.\n",
      "[I 2025-04-24 14:19:23,252] Trial 35 finished with value: 2.7026407080055392 and parameters: {'n_estimators': 900, 'max_depth': 4, 'learning_rate': 0.0975, 'subsample': 0.8, 'gamma': 0.30000000000000004, 'min_child_weight': 9}. Best is trial 18 with value: 2.506445619306393.\n",
      "[I 2025-04-24 14:19:24,100] Trial 36 finished with value: 3.066622525426729 and parameters: {'n_estimators': 750, 'max_depth': 8, 'learning_rate': 0.1645, 'subsample': 0.7, 'gamma': 0.1, 'min_child_weight': 9}. Best is trial 18 with value: 2.506445619306393.\n",
      "[I 2025-04-24 14:19:24,797] Trial 37 finished with value: 2.7694441034916197 and parameters: {'n_estimators': 900, 'max_depth': 3, 'learning_rate': 0.07150000000000001, 'subsample': 0.6, 'gamma': 0.2, 'min_child_weight': 10}. Best is trial 18 with value: 2.506445619306393.\n",
      "[I 2025-04-24 14:19:25,530] Trial 38 finished with value: 2.8912581650839666 and parameters: {'n_estimators': 750, 'max_depth': 4, 'learning_rate': 0.044500000000000005, 'subsample': 0.8, 'gamma': 0.30000000000000004, 'min_child_weight': 6}. Best is trial 18 with value: 2.506445619306393.\n",
      "[I 2025-04-24 14:19:26,004] Trial 39 finished with value: 2.993712495111916 and parameters: {'n_estimators': 600, 'max_depth': 3, 'learning_rate': 0.111, 'subsample': 0.9, 'gamma': 0.2, 'min_child_weight': 9}. Best is trial 18 with value: 2.506445619306393.\n",
      "[I 2025-04-24 14:19:26,610] Trial 40 finished with value: 3.060040431428179 and parameters: {'n_estimators': 950, 'max_depth': 4, 'learning_rate': 0.093, 'subsample': 0.9, 'gamma': 0.5, 'min_child_weight': 7}. Best is trial 18 with value: 2.506445619306393.\n",
      "[I 2025-04-24 14:19:27,432] Trial 41 finished with value: 3.025466651738523 and parameters: {'n_estimators': 1000, 'max_depth': 4, 'learning_rate': 0.099, 'subsample': 0.8, 'gamma': 0.30000000000000004, 'min_child_weight': 9}. Best is trial 18 with value: 2.506445619306393.\n",
      "[I 2025-04-24 14:19:28,131] Trial 42 finished with value: 2.9490243859225274 and parameters: {'n_estimators': 900, 'max_depth': 5, 'learning_rate': 0.14300000000000002, 'subsample': 0.8, 'gamma': 0.30000000000000004, 'min_child_weight': 8}. Best is trial 18 with value: 2.506445619306393.\n",
      "[I 2025-04-24 14:19:28,788] Trial 43 finished with value: 2.704627385554077 and parameters: {'n_estimators': 850, 'max_depth': 3, 'learning_rate': 0.0635, 'subsample': 0.7, 'gamma': 0.4, 'min_child_weight': 9}. Best is trial 18 with value: 2.506445619306393.\n",
      "[I 2025-04-24 14:19:29,448] Trial 44 finished with value: 2.748519937875976 and parameters: {'n_estimators': 750, 'max_depth': 4, 'learning_rate': 0.1155, 'subsample': 0.8, 'gamma': 0.30000000000000004, 'min_child_weight': 10}. Best is trial 18 with value: 2.506445619306393.\n",
      "[I 2025-04-24 14:19:30,137] Trial 45 finished with value: 2.7104325292562748 and parameters: {'n_estimators': 900, 'max_depth': 3, 'learning_rate': 0.0895, 'subsample': 0.7, 'gamma': 0.2, 'min_child_weight': 9}. Best is trial 18 with value: 2.506445619306393.\n",
      "[I 2025-04-24 14:19:30,728] Trial 46 finished with value: 3.33013423412471 and parameters: {'n_estimators': 600, 'max_depth': 4, 'learning_rate': 0.1685, 'subsample': 0.9, 'gamma': 0.1, 'min_child_weight': 8}. Best is trial 18 with value: 2.506445619306393.\n",
      "[I 2025-04-24 14:19:31,393] Trial 47 finished with value: 2.738558586765953 and parameters: {'n_estimators': 1000, 'max_depth': 3, 'learning_rate': 0.148, 'subsample': 0.9, 'gamma': 0.30000000000000004, 'min_child_weight': 10}. Best is trial 18 with value: 2.506445619306393.\n",
      "[I 2025-04-24 14:19:32,407] Trial 48 finished with value: 2.866429274433162 and parameters: {'n_estimators': 800, 'max_depth': 5, 'learning_rate': 0.0825, 'subsample': 0.6, 'gamma': 0.2, 'min_child_weight': 7}. Best is trial 18 with value: 2.506445619306393.\n",
      "[I 2025-04-24 14:19:32,924] Trial 49 finished with value: 2.9511391999377596 and parameters: {'n_estimators': 500, 'max_depth': 4, 'learning_rate': 0.0415, 'subsample': 0.7, 'gamma': 0.30000000000000004, 'min_child_weight': 8}. Best is trial 18 with value: 2.506445619306393.\n"
     ]
    },
    {
     "name": "stdout",
     "output_type": "stream",
     "text": [
      "Melhores hiperparâmetros: {'n_estimators': 800, 'max_depth': 3, 'learning_rate': 0.127, 'subsample': 0.6, 'gamma': 0.2, 'min_child_weight': 8}\n",
      "Mean Squared Error (MSE) on test data: 2.8858393687086332\n",
      "Modelo salvo em: Modelos\\best_xgb_model_optuna.pkl\n"
     ]
    }
   ],
   "source": [
    "# Converte os arrays normalizados de volta para DataFrame\n",
    "sy_x_train_scaled_df = pd.DataFrame(sy_x_train_scaled, columns=sy_x_train.columns, index=sy_x_train.index)\n",
    "sy_30_x_val_scaled_df = pd.DataFrame(sy_30_x_val_scaled, columns=sy_30_x_val.columns, index=sy_30_x_val.index)\n",
    "\n",
    "# Junta treino e validação\n",
    "X_full = pd.concat([sy_x_train_scaled_df, sy_30_x_val_scaled_df])\n",
    "y_full = pd.concat([sy_y_train, sy_30_y_val])\n",
    "\n",
    "# Cria vetor de validação: -1 para treino, 0 para validação\n",
    "validation_fold = np.concatenate([\n",
    "    np.full(len(sy_x_train), -1),\n",
    "    np.zeros(len(sy_30_x_val))\n",
    "])\n",
    "\n",
    "# Cria o PredefinedSplit\n",
    "ps = PredefinedSplit(test_fold=validation_fold)\n",
    "\n",
    "\n",
    "# Função objetivo para o Optuna\n",
    "def objective(trial):\n",
    "    # Sugerindo os hiperparâmetros\n",
    "    n_estimators = trial.suggest_int(\"n_estimators\", 50, 1000, step=50)\n",
    "    max_depth = trial.suggest_int(\"max_depth\", 3, 10, step=1)\n",
    "    learning_rate = trial.suggest_float(\"learning_rate\", 0.001, 0.3, step=0.0005)\n",
    "    subsample = trial.suggest_float(\"subsample\", 0.6, 1.0, step=0.1)\n",
    "    gamma = trial.suggest_float(\"gamma\", 0, 0.5, step=0.1)\n",
    "    min_child_weight = trial.suggest_int(\"min_child_weight\", 1, 10, step=1)\n",
    "    \n",
    "    \n",
    "\n",
    "    # Criando o modelo com os hiperparâmetros sugeridos\n",
    "    xgb_reg = xgb.XGBRegressor(\n",
    "        n_estimators=n_estimators,\n",
    "        max_depth=max_depth,\n",
    "        learning_rate=learning_rate,\n",
    "        subsample=subsample,\n",
    "        objective='reg:squarederror',\n",
    "        gamma=gamma,\n",
    "        min_child_weight=min_child_weight,\n",
    "        \n",
    "        random_state=42\n",
    "    )\n",
    "\n",
    "    # Treinando o modelo nos dados de treino\n",
    "    xgb_reg.fit(X_full[ps.test_fold == -1], y_full[ps.test_fold == -1])\n",
    "\n",
    "    # Avaliando o modelo nos dados de validação\n",
    "    predictions = xgb_reg.predict(X_full[ps.test_fold == 0])\n",
    "    mse = mean_squared_error(y_full[ps.test_fold == 0], predictions)\n",
    "\n",
    "    return mse  # O objetivo é minimizar o MSE\n",
    "\n",
    "# Criando o estudo do Optuna\n",
    "study = optuna.create_study(direction=\"minimize\")\n",
    "study.optimize(objective, n_trials=50)  # Número de tentativas\n",
    "\n",
    "# Obtendo os melhores hiperparâmetros\n",
    "best_params = study.best_params\n",
    "print(\"Melhores hiperparâmetros:\", best_params)\n",
    "\n",
    "\n",
    "# Treinando o modelo final com os melhores hiperparâmetros\n",
    "best_xgb = xgb.XGBRegressor(\n",
    "    n_estimators=best_params[\"n_estimators\"],\n",
    "    max_depth=best_params[\"max_depth\"],\n",
    "    learning_rate=best_params[\"learning_rate\"],\n",
    "    subsample=best_params[\"subsample\"],\n",
    "    gamma=best_params[\"gamma\"],\n",
    "    min_child_weight=best_params[\"min_child_weight\"],\n",
    "    objective='reg:squarederror',\n",
    "    random_state=42\n",
    ")\n",
    "best_xgb.fit(sy_x_train_scaled, sy_y_train)\n",
    "\n",
    "# Avaliando o modelo nos dados de teste\n",
    "predictions = best_xgb.predict(sy_30_x_test_scaled)\n",
    "mse = mean_squared_error(sy_30_y_test, predictions)\n",
    "print(f\"Mean Squared Error (MSE) on test data: {mse}\")\n",
    "\n",
    "# Salvando o modelo na pasta 'Modelos'\n",
    "os.makedirs('Modelos', exist_ok=True)\n",
    "model_path = os.path.join('Modelos', 'best_xgb_model_optuna.pkl')\n",
    "joblib.dump(best_xgb, model_path)\n",
    "print(f\"Modelo salvo em: {model_path}\")"
   ]
  },
  {
   "cell_type": "markdown",
   "id": "6e52b921",
   "metadata": {},
   "source": [
    "## MLP"
   ]
  },
  {
   "cell_type": "markdown",
   "id": "ab7ceff5",
   "metadata": {},
   "source": [
    "GridSearch"
   ]
  },
  {
   "cell_type": "code",
   "execution_count": 25,
   "id": "45b4a20b",
   "metadata": {},
   "outputs": [
    {
     "name": "stdout",
     "output_type": "stream",
     "text": [
      "Fitting 1 folds for each of 216 candidates, totalling 216 fits\n",
      "Mean Squared Error (MSE) on test data: 3.3342401641444734\n",
      "Modelo salvo em: Modelos\\best_mlp_model_grid.pkl\n"
     ]
    },
    {
     "name": "stderr",
     "output_type": "stream",
     "text": [
      "c:\\faculdade\\TCC_Music\\.venv\\Lib\\site-packages\\sklearn\\utils\\validation.py:2739: UserWarning: X does not have valid feature names, but MLPRegressor was fitted with feature names\n",
      "  warnings.warn(\n"
     ]
    }
   ],
   "source": [
    "\n",
    "\n",
    "# Definindo os hiperparâmetros para o GridSearch\n",
    "param_grid = {\n",
    "    'hidden_layer_sizes': [(50,), (100,), (50, 50), (100, 50), (100, 100),(50, 50, 50), (100, 50, 50), (100, 100, 50), (100, 100, 100)],\n",
    "    'activation': ['relu', 'tanh'],\n",
    "    'solver': ['adam', 'sgd'],\n",
    "    'learning_rate': ['constant', 'adaptive'],\n",
    "    'alpha': [0.0001, 0.001, 0.01]\n",
    "}\n",
    "\n",
    "# Inicializando o modelo MLP\n",
    "mlp_reg = MLPRegressor(random_state=42, max_iter=500)\n",
    "\n",
    "# Converte os arrays normalizados de volta para DataFrame\n",
    "sy_x_train_scaled_df = pd.DataFrame(sy_x_train_scaled, columns=sy_x_train.columns, index=sy_x_train.index)\n",
    "sy_30_x_val_scaled_df = pd.DataFrame(sy_30_x_val_scaled, columns=sy_30_x_val.columns, index=sy_30_x_val.index)\n",
    "\n",
    "# Junta treino e validação\n",
    "X_full = pd.concat([sy_x_train_scaled_df, sy_30_x_val_scaled_df])\n",
    "y_full = pd.concat([sy_y_train, sy_30_y_val])\n",
    "\n",
    "# Cria vetor de validação: -1 para treino, 0 para validação\n",
    "validation_fold = np.concatenate([\n",
    "    np.full(len(sy_x_train), -1),\n",
    "    np.zeros(len(sy_30_x_val))\n",
    "])\n",
    "\n",
    "# Cria o PredefinedSplit\n",
    "ps = PredefinedSplit(test_fold=validation_fold)\n",
    "\n",
    "# Configurando o GridSearchCV com PredefinedSplit\n",
    "grid_search = GridSearchCV(\n",
    "    estimator=mlp_reg,\n",
    "    param_grid=param_grid,\n",
    "    scoring='neg_mean_squared_error',  # Métrica de avaliação\n",
    "    cv=ps,  # Número de folds para validação cruzada\n",
    "    verbose=3,  # Mostra o progresso do tuning\n",
    "    n_jobs=-1  # Usa todos os núcleos disponíveis\n",
    ")\n",
    "\n",
    "# Treinando o GridSearchCV\n",
    "grid_search.fit(X_full, y_full)\n",
    "\n",
    "# Obtendo o melhor modelo\n",
    "best_mlp_reg = grid_search.best_estimator_\n",
    "\n",
    "# Avaliando o modelo nos dados de teste\n",
    "predictions = best_mlp_reg.predict(sy_30_x_test_scaled)\n",
    "mse = mean_squared_error(sy_30_y_test, predictions)\n",
    "print(f\"Mean Squared Error (MSE) on test data: {mse}\")\n",
    "\n",
    "# Salvando o modelo na pasta 'Modelos'\n",
    "os.makedirs('Modelos', exist_ok=True)\n",
    "model_path = os.path.join('Modelos', 'best_mlp_model_grid.pkl')\n",
    "joblib.dump(best_mlp_reg, model_path)\n",
    "print(f\"Modelo salvo em: {model_path}\")"
   ]
  },
  {
   "cell_type": "markdown",
   "id": "215b433f",
   "metadata": {},
   "source": [
    "Optuna"
   ]
  },
  {
   "cell_type": "code",
   "execution_count": 23,
   "id": "3221fc5d",
   "metadata": {},
   "outputs": [
    {
     "name": "stderr",
     "output_type": "stream",
     "text": [
      "[I 2025-04-28 09:49:18,683] A new study created in memory with name: no-name-593c19ba-4856-4ffc-84a5-7ada84bd71bc\n",
      "[I 2025-04-28 09:49:53,402] Trial 0 finished with value: 4.253595743081349 and parameters: {'n_layers': 1, 'n_units_layer_0': 70, 'activation': 'relu', 'solver': 'adam', 'alpha': 0.006071323986349375, 'learning_rate': 'constant'}. Best is trial 0 with value: 4.253595743081349.\n",
      "[I 2025-04-28 09:54:09,362] Trial 1 finished with value: 4.783693931466111 and parameters: {'n_layers': 2, 'n_units_layer_0': 180, 'n_units_layer_1': 190, 'activation': 'relu', 'solver': 'adam', 'alpha': 0.00045592803267607867, 'learning_rate': 'constant'}. Best is trial 0 with value: 4.253595743081349.\n",
      "[I 2025-04-28 09:54:51,381] Trial 2 finished with value: 4.579312869609497 and parameters: {'n_layers': 3, 'n_units_layer_0': 110, 'n_units_layer_1': 80, 'n_units_layer_2': 100, 'activation': 'relu', 'solver': 'adam', 'alpha': 0.002598256618167818, 'learning_rate': 'constant'}. Best is trial 0 with value: 4.253595743081349.\n",
      "[I 2025-04-28 09:55:02,932] Trial 3 finished with value: 5.1419154766746535 and parameters: {'n_layers': 1, 'n_units_layer_0': 60, 'activation': 'tanh', 'solver': 'adam', 'alpha': 0.00080663800285971, 'learning_rate': 'constant'}. Best is trial 0 with value: 4.253595743081349.\n",
      "[I 2025-04-28 09:56:49,792] Trial 4 finished with value: 6.020741977334394 and parameters: {'n_layers': 3, 'n_units_layer_0': 160, 'n_units_layer_1': 160, 'n_units_layer_2': 180, 'activation': 'relu', 'solver': 'adam', 'alpha': 0.0005753489091195782, 'learning_rate': 'constant'}. Best is trial 0 with value: 4.253595743081349.\n",
      "[I 2025-04-28 09:56:59,121] Trial 5 finished with value: 7.82932635895624 and parameters: {'n_layers': 2, 'n_units_layer_0': 50, 'n_units_layer_1': 150, 'activation': 'tanh', 'solver': 'sgd', 'alpha': 0.0033667230510172667, 'learning_rate': 'adaptive'}. Best is trial 0 with value: 4.253595743081349.\n",
      "[I 2025-04-28 09:57:01,022] Trial 6 finished with value: 7.892426122346857 and parameters: {'n_layers': 1, 'n_units_layer_0': 80, 'activation': 'tanh', 'solver': 'sgd', 'alpha': 0.00015805286032082096, 'learning_rate': 'constant'}. Best is trial 0 with value: 4.253595743081349.\n",
      "[I 2025-04-28 09:57:44,319] Trial 7 finished with value: 5.418239476358706 and parameters: {'n_layers': 3, 'n_units_layer_0': 110, 'n_units_layer_1': 70, 'n_units_layer_2': 130, 'activation': 'relu', 'solver': 'sgd', 'alpha': 0.000908189882800078, 'learning_rate': 'adaptive'}. Best is trial 0 with value: 4.253595743081349.\n",
      "[I 2025-04-28 09:58:57,575] Trial 8 finished with value: 5.460266591995367 and parameters: {'n_layers': 2, 'n_units_layer_0': 120, 'n_units_layer_1': 190, 'activation': 'relu', 'solver': 'sgd', 'alpha': 0.0012977771957964298, 'learning_rate': 'adaptive'}. Best is trial 0 with value: 4.253595743081349.\n",
      "[I 2025-04-28 10:00:55,740] Trial 9 finished with value: 4.270819935414123 and parameters: {'n_layers': 2, 'n_units_layer_0': 190, 'n_units_layer_1': 200, 'activation': 'relu', 'solver': 'adam', 'alpha': 0.00017997794380996446, 'learning_rate': 'adaptive'}. Best is trial 0 with value: 4.253595743081349.\n",
      "[I 2025-04-28 10:01:05,735] Trial 10 finished with value: 5.92795476539432 and parameters: {'n_layers': 1, 'n_units_layer_0': 80, 'activation': 'tanh', 'solver': 'adam', 'alpha': 0.008336141183093884, 'learning_rate': 'constant'}. Best is trial 0 with value: 4.253595743081349.\n",
      "[I 2025-04-28 10:01:51,286] Trial 11 finished with value: 4.040363387662906 and parameters: {'n_layers': 1, 'n_units_layer_0': 200, 'activation': 'relu', 'solver': 'adam', 'alpha': 0.00012521368003670451, 'learning_rate': 'adaptive'}. Best is trial 11 with value: 4.040363387662906.\n",
      "[I 2025-04-28 10:02:06,601] Trial 12 finished with value: 4.011950057808169 and parameters: {'n_layers': 1, 'n_units_layer_0': 150, 'activation': 'relu', 'solver': 'adam', 'alpha': 0.009504944364889953, 'learning_rate': 'adaptive'}. Best is trial 12 with value: 4.011950057808169.\n",
      "[I 2025-04-28 10:02:15,139] Trial 13 finished with value: 4.16262442993562 and parameters: {'n_layers': 1, 'n_units_layer_0': 160, 'activation': 'relu', 'solver': 'adam', 'alpha': 0.00011162585669713157, 'learning_rate': 'adaptive'}. Best is trial 12 with value: 4.011950057808169.\n",
      "[I 2025-04-28 10:02:26,773] Trial 14 finished with value: 3.974272167438116 and parameters: {'n_layers': 1, 'n_units_layer_0': 150, 'activation': 'relu', 'solver': 'adam', 'alpha': 0.000299458257282889, 'learning_rate': 'adaptive'}. Best is trial 14 with value: 3.974272167438116.\n",
      "[I 2025-04-28 10:02:38,453] Trial 15 finished with value: 4.043349643176864 and parameters: {'n_layers': 1, 'n_units_layer_0': 150, 'activation': 'relu', 'solver': 'adam', 'alpha': 0.00030847488089642204, 'learning_rate': 'adaptive'}. Best is trial 14 with value: 3.974272167438116.\n",
      "[I 2025-04-28 10:03:47,375] Trial 16 finished with value: 4.750524427793267 and parameters: {'n_layers': 2, 'n_units_layer_0': 140, 'n_units_layer_1': 110, 'activation': 'relu', 'solver': 'adam', 'alpha': 0.0016198387314386334, 'learning_rate': 'adaptive'}. Best is trial 14 with value: 3.974272167438116.\n",
      "[I 2025-04-28 10:04:08,092] Trial 17 finished with value: 3.750677463130589 and parameters: {'n_layers': 1, 'n_units_layer_0': 130, 'activation': 'relu', 'solver': 'adam', 'alpha': 0.0002900931985442202, 'learning_rate': 'adaptive'}. Best is trial 17 with value: 3.750677463130589.\n",
      "[I 2025-04-28 10:04:12,775] Trial 18 finished with value: 7.868892480378488 and parameters: {'n_layers': 1, 'n_units_layer_0': 100, 'activation': 'tanh', 'solver': 'sgd', 'alpha': 0.00026384849649650055, 'learning_rate': 'adaptive'}. Best is trial 17 with value: 3.750677463130589.\n",
      "[I 2025-04-28 10:04:55,078] Trial 19 finished with value: 4.839476052556919 and parameters: {'n_layers': 2, 'n_units_layer_0': 130, 'n_units_layer_1': 50, 'activation': 'relu', 'solver': 'adam', 'alpha': 0.00029521776132950125, 'learning_rate': 'adaptive'}. Best is trial 17 with value: 3.750677463130589.\n",
      "[I 2025-04-28 10:05:20,065] Trial 20 finished with value: 4.066844961275713 and parameters: {'n_layers': 1, 'n_units_layer_0': 170, 'activation': 'relu', 'solver': 'adam', 'alpha': 0.0004580566283825639, 'learning_rate': 'adaptive'}. Best is trial 17 with value: 3.750677463130589.\n",
      "[I 2025-04-28 10:05:34,284] Trial 21 finished with value: 3.66294826316373 and parameters: {'n_layers': 1, 'n_units_layer_0': 140, 'activation': 'relu', 'solver': 'adam', 'alpha': 0.00020915691387984604, 'learning_rate': 'adaptive'}. Best is trial 21 with value: 3.66294826316373.\n",
      "[I 2025-04-28 10:05:55,248] Trial 22 finished with value: 3.72662905146709 and parameters: {'n_layers': 1, 'n_units_layer_0': 130, 'activation': 'relu', 'solver': 'adam', 'alpha': 0.00021529464810549922, 'learning_rate': 'adaptive'}. Best is trial 21 with value: 3.66294826316373.\n",
      "[I 2025-04-28 10:06:14,148] Trial 23 finished with value: 3.9210172898018887 and parameters: {'n_layers': 1, 'n_units_layer_0': 130, 'activation': 'relu', 'solver': 'adam', 'alpha': 0.0001790102515623146, 'learning_rate': 'adaptive'}. Best is trial 21 with value: 3.66294826316373.\n",
      "[I 2025-04-28 10:06:28,485] Trial 24 finished with value: 4.014230340782986 and parameters: {'n_layers': 1, 'n_units_layer_0': 100, 'activation': 'relu', 'solver': 'adam', 'alpha': 0.0002244453316513408, 'learning_rate': 'adaptive'}. Best is trial 21 with value: 3.66294826316373.\n",
      "[I 2025-04-28 10:07:00,368] Trial 25 finished with value: 5.330867590205092 and parameters: {'n_layers': 2, 'n_units_layer_0': 130, 'n_units_layer_1': 110, 'activation': 'relu', 'solver': 'adam', 'alpha': 0.00010216349155456549, 'learning_rate': 'adaptive'}. Best is trial 21 with value: 3.66294826316373.\n",
      "[I 2025-04-28 10:07:04,603] Trial 26 finished with value: 7.890191957955446 and parameters: {'n_layers': 1, 'n_units_layer_0': 120, 'activation': 'tanh', 'solver': 'sgd', 'alpha': 0.00042321228258414165, 'learning_rate': 'adaptive'}. Best is trial 21 with value: 3.66294826316373.\n",
      "[I 2025-04-28 10:07:13,234] Trial 27 finished with value: 4.45622580800199 and parameters: {'n_layers': 1, 'n_units_layer_0': 140, 'activation': 'relu', 'solver': 'adam', 'alpha': 0.0006205940441384326, 'learning_rate': 'adaptive'}. Best is trial 21 with value: 3.66294826316373.\n",
      "[I 2025-04-28 10:07:50,587] Trial 28 finished with value: 4.894778979965123 and parameters: {'n_layers': 2, 'n_units_layer_0': 100, 'n_units_layer_1': 140, 'activation': 'relu', 'solver': 'adam', 'alpha': 0.00020596817721700404, 'learning_rate': 'adaptive'}. Best is trial 21 with value: 3.66294826316373.\n",
      "[I 2025-04-28 10:08:04,637] Trial 29 finished with value: 3.81698997539333 and parameters: {'n_layers': 1, 'n_units_layer_0': 170, 'activation': 'relu', 'solver': 'adam', 'alpha': 0.00014486164847879582, 'learning_rate': 'adaptive'}. Best is trial 21 with value: 3.66294826316373.\n",
      "[I 2025-04-28 10:08:16,188] Trial 30 finished with value: 4.223877801738672 and parameters: {'n_layers': 1, 'n_units_layer_0': 140, 'activation': 'relu', 'solver': 'adam', 'alpha': 0.00035955087196663717, 'learning_rate': 'adaptive'}. Best is trial 21 with value: 3.66294826316373.\n",
      "[I 2025-04-28 10:08:35,662] Trial 31 finished with value: 3.9059347619483398 and parameters: {'n_layers': 1, 'n_units_layer_0': 170, 'activation': 'relu', 'solver': 'adam', 'alpha': 0.00014654276630739262, 'learning_rate': 'adaptive'}. Best is trial 21 with value: 3.66294826316373.\n",
      "[I 2025-04-28 10:09:01,574] Trial 32 finished with value: 3.990318869526715 and parameters: {'n_layers': 1, 'n_units_layer_0': 180, 'activation': 'relu', 'solver': 'adam', 'alpha': 0.0002206352548158488, 'learning_rate': 'adaptive'}. Best is trial 21 with value: 3.66294826316373.\n",
      "[I 2025-04-28 10:09:14,425] Trial 33 finished with value: 3.956776689194034 and parameters: {'n_layers': 1, 'n_units_layer_0': 110, 'activation': 'relu', 'solver': 'adam', 'alpha': 0.00013342646636627423, 'learning_rate': 'adaptive'}. Best is trial 21 with value: 3.66294826316373.\n",
      "[I 2025-04-28 10:09:23,312] Trial 34 finished with value: 4.185057269802747 and parameters: {'n_layers': 1, 'n_units_layer_0': 160, 'activation': 'relu', 'solver': 'adam', 'alpha': 0.0006081208570762101, 'learning_rate': 'constant'}. Best is trial 21 with value: 3.66294826316373.\n",
      "[I 2025-04-28 10:10:39,262] Trial 35 finished with value: 4.9918693519884165 and parameters: {'n_layers': 3, 'n_units_layer_0': 180, 'n_units_layer_1': 90, 'n_units_layer_2': 50, 'activation': 'relu', 'solver': 'adam', 'alpha': 0.0004503890947054915, 'learning_rate': 'constant'}. Best is trial 21 with value: 3.66294826316373.\n",
      "[I 2025-04-28 10:10:47,866] Trial 36 finished with value: 4.401656009642237 and parameters: {'n_layers': 1, 'n_units_layer_0': 140, 'activation': 'relu', 'solver': 'adam', 'alpha': 0.00022426444724865904, 'learning_rate': 'adaptive'}. Best is trial 21 with value: 3.66294826316373.\n",
      "[I 2025-04-28 10:11:42,032] Trial 37 finished with value: 4.3570362818644135 and parameters: {'n_layers': 2, 'n_units_layer_0': 120, 'n_units_layer_1': 170, 'activation': 'tanh', 'solver': 'adam', 'alpha': 0.004712106005121344, 'learning_rate': 'constant'}. Best is trial 21 with value: 3.66294826316373.\n",
      "[I 2025-04-28 10:11:57,966] Trial 38 finished with value: 6.976893036973983 and parameters: {'n_layers': 1, 'n_units_layer_0': 170, 'activation': 'relu', 'solver': 'sgd', 'alpha': 0.00015553012585522646, 'learning_rate': 'adaptive'}. Best is trial 21 with value: 3.66294826316373.\n",
      "[I 2025-04-28 10:12:17,519] Trial 39 finished with value: 5.179269437381157 and parameters: {'n_layers': 1, 'n_units_layer_0': 200, 'activation': 'tanh', 'solver': 'adam', 'alpha': 0.0007537973332396721, 'learning_rate': 'adaptive'}. Best is trial 21 with value: 3.66294826316373.\n",
      "[I 2025-04-28 10:12:46,186] Trial 40 finished with value: 6.035206745821792 and parameters: {'n_layers': 2, 'n_units_layer_0': 150, 'n_units_layer_1': 50, 'activation': 'relu', 'solver': 'sgd', 'alpha': 0.002098727327536945, 'learning_rate': 'constant'}. Best is trial 21 with value: 3.66294826316373.\n",
      "[I 2025-04-28 10:13:05,053] Trial 41 finished with value: 3.9097972713513265 and parameters: {'n_layers': 1, 'n_units_layer_0': 170, 'activation': 'relu', 'solver': 'adam', 'alpha': 0.00014081046856115554, 'learning_rate': 'adaptive'}. Best is trial 21 with value: 3.66294826316373.\n",
      "[I 2025-04-28 10:13:13,757] Trial 42 finished with value: 4.095380057111486 and parameters: {'n_layers': 1, 'n_units_layer_0': 160, 'activation': 'relu', 'solver': 'adam', 'alpha': 0.00017069816717265294, 'learning_rate': 'adaptive'}. Best is trial 21 with value: 3.66294826316373.\n",
      "[I 2025-04-28 10:13:51,473] Trial 43 finished with value: 3.9318467210219863 and parameters: {'n_layers': 1, 'n_units_layer_0': 190, 'activation': 'relu', 'solver': 'adam', 'alpha': 0.00010632462753966744, 'learning_rate': 'adaptive'}. Best is trial 21 with value: 3.66294826316373.\n",
      "[I 2025-04-28 10:14:16,743] Trial 44 finished with value: 3.933242731060693 and parameters: {'n_layers': 1, 'n_units_layer_0': 180, 'activation': 'relu', 'solver': 'adam', 'alpha': 0.00037495560857783673, 'learning_rate': 'adaptive'}. Best is trial 21 with value: 3.66294826316373.\n",
      "[I 2025-04-28 10:14:22,224] Trial 45 finished with value: 4.51494153585346 and parameters: {'n_layers': 1, 'n_units_layer_0': 80, 'activation': 'relu', 'solver': 'adam', 'alpha': 0.0002635157458799591, 'learning_rate': 'adaptive'}. Best is trial 21 with value: 3.66294826316373.\n",
      "[I 2025-04-28 10:15:35,779] Trial 46 finished with value: 4.952894997123926 and parameters: {'n_layers': 3, 'n_units_layer_0': 120, 'n_units_layer_1': 130, 'n_units_layer_2': 200, 'activation': 'relu', 'solver': 'adam', 'alpha': 0.00013439453838805934, 'learning_rate': 'adaptive'}. Best is trial 21 with value: 3.66294826316373.\n",
      "[I 2025-04-28 10:16:00,646] Trial 47 finished with value: 3.8593182024861017 and parameters: {'n_layers': 1, 'n_units_layer_0': 110, 'activation': 'relu', 'solver': 'adam', 'alpha': 0.00017993017687448822, 'learning_rate': 'adaptive'}. Best is trial 21 with value: 3.66294826316373.\n",
      "[I 2025-04-28 10:16:04,730] Trial 48 finished with value: 7.904620166583932 and parameters: {'n_layers': 1, 'n_units_layer_0': 90, 'activation': 'tanh', 'solver': 'sgd', 'alpha': 0.00020219389737718515, 'learning_rate': 'adaptive'}. Best is trial 21 with value: 3.66294826316373.\n",
      "[I 2025-04-28 10:16:23,514] Trial 49 finished with value: 3.9837770270089736 and parameters: {'n_layers': 1, 'n_units_layer_0': 110, 'activation': 'relu', 'solver': 'adam', 'alpha': 0.0002600808523207639, 'learning_rate': 'constant'}. Best is trial 21 with value: 3.66294826316373.\n"
     ]
    },
    {
     "name": "stdout",
     "output_type": "stream",
     "text": [
      "Melhores hiperparâmetros: {'n_layers': 1, 'n_units_layer_0': 140, 'activation': 'relu', 'solver': 'adam', 'alpha': 0.00020915691387984604, 'learning_rate': 'adaptive', 'hidden_layer_sizes': (140,)}\n",
      "Mean Squared Error (MSE) on test data: 3.092867299798431\n",
      "Modelo salvo em: Modelos\\best_mlp_model_optuna.pkl\n"
     ]
    }
   ],
   "source": [
    "# Converte os arrays normalizados de volta para DataFrame\n",
    "sy_x_train_scaled_df = pd.DataFrame(sy_x_train_scaled, columns=sy_x_train.columns, index=sy_x_train.index)\n",
    "sy_30_x_val_scaled_df = pd.DataFrame(sy_30_x_val_scaled, columns=sy_30_x_val.columns, index=sy_30_x_val.index)\n",
    "\n",
    "# Junta treino e validação\n",
    "X_full = pd.concat([sy_x_train_scaled_df, sy_30_x_val_scaled_df])\n",
    "y_full = pd.concat([sy_y_train, sy_30_y_val])\n",
    "\n",
    "# Cria vetor de validação: -1 para treino, 0 para validação\n",
    "validation_fold = np.concatenate([\n",
    "    np.full(len(sy_x_train), -1),\n",
    "    np.zeros(len(sy_30_x_val))\n",
    "])\n",
    "\n",
    "# Cria o PredefinedSplit\n",
    "ps = PredefinedSplit(test_fold=validation_fold)\n",
    "\n",
    "# Função objetivo para o Optuna\n",
    "def objective(trial):\n",
    "    # Sugerindo os hiperparâmetros\n",
    "     # Escolhe número de camadas: 1, 2 ou 3\n",
    "    n_layers = trial.suggest_int('n_layers', 1, 3)\n",
    "    \n",
    "    # Para cada camada, escolher número de neurônios\n",
    "    hidden_layer_sizes = []\n",
    "    for i in range(n_layers):\n",
    "        num_units = trial.suggest_int(f'n_units_layer_{i}', 50, 200, step=10)\n",
    "        hidden_layer_sizes.append(num_units)\n",
    "    \n",
    "    hidden_layer_sizes = tuple(hidden_layer_sizes)  # vira tupla, como o MLP espera\n",
    "    activation = trial.suggest_categorical(\"activation\", [\"relu\", \"tanh\"])\n",
    "    solver = trial.suggest_categorical(\"solver\", [\"adam\", \"sgd\"])\n",
    "    alpha = trial.suggest_float(\"alpha\", 0.0001, 0.01, log=True)\n",
    "    learning_rate = trial.suggest_categorical(\"learning_rate\", [\"constant\", \"adaptive\"])\n",
    "\n",
    "    # Criando o modelo com os hiperparâmetros sugeridos\n",
    "    mlp_reg = MLPRegressor(\n",
    "        hidden_layer_sizes=hidden_layer_sizes,\n",
    "        activation=activation,\n",
    "        solver=solver,\n",
    "        alpha=alpha,\n",
    "        learning_rate=learning_rate,\n",
    "        max_iter=1000,\n",
    "        random_state=42\n",
    "    )\n",
    "\n",
    "    # Treinando o modelo nos dados de treino\n",
    "    mlp_reg.fit(X_full[ps.test_fold == -1], y_full[ps.test_fold == -1])\n",
    "\n",
    "    # Avaliando o modelo nos dados de validação\n",
    "    predictions = mlp_reg.predict(X_full[ps.test_fold == 0])\n",
    "    mse = mean_squared_error(y_full[ps.test_fold == 0], predictions)\n",
    "\n",
    "    return mse  # O objetivo é minimizar o MSE\n",
    "\n",
    "# Criando o estudo do Optuna\n",
    "study = optuna.create_study(direction=\"minimize\")\n",
    "study.optimize(objective, n_trials=50)  # Número de tentativas\n",
    "\n",
    "# Obtendo os melhores hiperparâmetros\n",
    "best_params = study.best_params\n",
    "\n",
    "# Construindo o hidden_layer_sizes a partir dos melhores parâmetros\n",
    "hidden_layer_sizes = []\n",
    "for i in range(best_params[\"n_layers\"]):\n",
    "    hidden_layer_sizes.append(best_params[f\"n_units_layer_{i}\"])\n",
    "best_params[\"hidden_layer_sizes\"] = tuple(hidden_layer_sizes)\n",
    "\n",
    "print(\"Melhores hiperparâmetros:\", best_params)\n",
    "\n",
    "# Treinando o modelo final com os melhores hiperparâmetros\n",
    "best_mlp = MLPRegressor(\n",
    "    hidden_layer_sizes=best_params[\"hidden_layer_sizes\"],\n",
    "    activation=best_params[\"activation\"],\n",
    "    solver=best_params[\"solver\"],\n",
    "    alpha=best_params[\"alpha\"],\n",
    "    learning_rate=best_params[\"learning_rate\"],\n",
    "    max_iter=1000,\n",
    "    random_state=42\n",
    ")\n",
    "best_mlp.fit(sy_x_train_scaled, sy_y_train)\n",
    "\n",
    "# Avaliando o modelo nos dados de teste\n",
    "predictions = best_mlp.predict(sy_30_x_test_scaled)\n",
    "mse = mean_squared_error(sy_30_y_test, predictions)\n",
    "print(f\"Mean Squared Error (MSE) on test data: {mse}\")\n",
    "\n",
    "# Salvando o modelo na pasta 'Modelos'\n",
    "os.makedirs('Modelos', exist_ok=True)\n",
    "model_path = os.path.join('Modelos', 'best_mlp_model_optuna.pkl')\n",
    "joblib.dump(best_mlp, model_path)\n",
    "print(f\"Modelo salvo em: {model_path}\")"
   ]
  }
 ],
 "metadata": {
  "kernelspec": {
   "display_name": ".venv",
   "language": "python",
   "name": "python3"
  },
  "language_info": {
   "codemirror_mode": {
    "name": "ipython",
    "version": 3
   },
   "file_extension": ".py",
   "mimetype": "text/x-python",
   "name": "python",
   "nbconvert_exporter": "python",
   "pygments_lexer": "ipython3",
   "version": "3.12.10"
  }
 },
 "nbformat": 4,
 "nbformat_minor": 5
}
