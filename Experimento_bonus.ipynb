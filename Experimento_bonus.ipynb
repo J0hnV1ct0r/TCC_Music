{
 "cells": [
  {
   "cell_type": "code",
   "execution_count": 102,
   "id": "0793905b",
   "metadata": {},
   "outputs": [],
   "source": [
    "import pandas as pd\n",
    "from sklearn.model_selection import train_test_split\n",
    "from sklearn.metrics import mean_squared_error\n",
    "import numpy as np\n",
    "import matplotlib.pyplot as plt\n",
    "import seaborn as sns"
   ]
  },
  {
   "cell_type": "code",
   "execution_count": 103,
   "id": "1db0c1d3",
   "metadata": {},
   "outputs": [],
   "source": [
    "from sklearn.linear_model import  LinearRegression\n",
    "from sklearn.ensemble import RandomForestRegressor\n",
    "from sklearn.neural_network import MLPRegressor\n",
    "import xgboost as xgb"
   ]
  },
  {
   "cell_type": "code",
   "execution_count": 104,
   "id": "fe2832e7",
   "metadata": {},
   "outputs": [],
   "source": [
    "from sklearn.preprocessing import MinMaxScaler\n",
    "from sklearn.model_selection import GridSearchCV\n",
    "from sklearn.model_selection import PredefinedSplit\n",
    "import optuna"
   ]
  },
  {
   "cell_type": "code",
   "execution_count": 105,
   "id": "0e00298c",
   "metadata": {},
   "outputs": [],
   "source": [
    "import joblib\n",
    "import os"
   ]
  },
  {
   "cell_type": "markdown",
   "id": "4cfc0013",
   "metadata": {},
   "source": [
    "# Tratamento dos dados"
   ]
  },
  {
   "cell_type": "code",
   "execution_count": 106,
   "id": "5e861a48",
   "metadata": {},
   "outputs": [],
   "source": [
    "spotify_youtube_pt1 = pd.read_csv(\"Dados/spotify_youtube_up_pt1.csv\")\n",
    "spotify_youtube_pt2 = pd.read_csv(\"Dados/spotify_youtube_up_pt2.csv\")"
   ]
  },
  {
   "cell_type": "code",
   "execution_count": 107,
   "id": "d1e75ccb",
   "metadata": {},
   "outputs": [],
   "source": [
    "data_extracao = pd.to_datetime(\"2023-02-07\")\n",
    "spotify_youtube_pt1[\"upload_date\"] = pd.to_datetime(spotify_youtube_pt1[\"upload_date\"])\n",
    "spotify_youtube_pt1[\"dias_na_plataforma\"] = (data_extracao - spotify_youtube_pt1[\"upload_date\"]).dt.days\n",
    "\n",
    "spotify_youtube_pt2[\"upload_date\"] = pd.to_datetime(spotify_youtube_pt2[\"upload_date\"])\n",
    "spotify_youtube_pt2[\"dias_na_plataforma\"] = (data_extracao - spotify_youtube_pt2[\"upload_date\"]).dt.days"
   ]
  },
  {
   "cell_type": "code",
   "execution_count": 108,
   "id": "82b699fd",
   "metadata": {},
   "outputs": [],
   "source": [
    "spotify_youtube = pd.concat([spotify_youtube_pt1,spotify_youtube_pt2])"
   ]
  },
  {
   "cell_type": "code",
   "execution_count": 109,
   "id": "e0a11913",
   "metadata": {},
   "outputs": [],
   "source": [
    "spotify_youtube_dummies= pd.get_dummies(spotify_youtube,columns=['Album_type'], dtype=int)"
   ]
  },
  {
   "cell_type": "code",
   "execution_count": 110,
   "id": "b4c0c377",
   "metadata": {},
   "outputs": [],
   "source": [
    "spotify_youtube_dummies['artist_number'] = spotify_youtube_dummies['Artist'].str.split(',').str.len()\n",
    "spotify_youtube_dummies['engagement_rate'] = spotify_youtube_dummies.apply(lambda row: (row['Likes'] + row['Comments']) / row['Views'] * 100 if row['Views'] > 0 else 0, axis=1)"
   ]
  },
  {
   "cell_type": "code",
   "execution_count": 111,
   "id": "a6e06260",
   "metadata": {},
   "outputs": [],
   "source": [
    "columns_drop=['Unnamed: 0', 'Artist', 'Url_spotify', 'Track', 'Album', 'Uri','Url_youtube', 'Title', 'Channel', 'Views', 'Likes','Comments', 'Description', 'Licensed', 'official_video', 'upload_date']\n",
    "spotify_youtube_df=spotify_youtube_dummies.drop(columns=columns_drop)"
   ]
  },
  {
   "cell_type": "code",
   "execution_count": 112,
   "id": "6a24aab2",
   "metadata": {},
   "outputs": [],
   "source": [
    "spotify_youtube_limpo=spotify_youtube_df.dropna(subset=['Danceability','Energy','Key','Loudness','Speechiness','Acousticness', 'Instrumentalness','Liveness','Valence','Tempo','Duration_ms','Stream','engagement_rate'])"
   ]
  },
  {
   "cell_type": "markdown",
   "id": "90d6d8e5",
   "metadata": {},
   "source": [
    "# Preparação dos dados para os experimentos"
   ]
  },
  {
   "cell_type": "code",
   "execution_count": 113,
   "id": "836206a1",
   "metadata": {},
   "outputs": [],
   "source": [
    "youtube_30_df=spotify_youtube_limpo[spotify_youtube_limpo['dias_na_plataforma']<31]\n",
    "youtube_90_df=spotify_youtube_limpo[spotify_youtube_limpo['dias_na_plataforma']<91]\n",
    "youtube_365_df=spotify_youtube_limpo[spotify_youtube_limpo['dias_na_plataforma']<366]"
   ]
  },
  {
   "cell_type": "code",
   "execution_count": 114,
   "id": "928468a6",
   "metadata": {},
   "outputs": [],
   "source": [
    "spotify_youtube_df_366_more = spotify_youtube_limpo.drop(youtube_365_df.index)\n",
    "spotify_youtube_df_91_365 = youtube_365_df.drop(youtube_90_df.index)\n",
    "spotify_youtube_df_31_90 = youtube_365_df.drop(youtube_30_df.index)"
   ]
  },
  {
   "cell_type": "code",
   "execution_count": 115,
   "id": "2c9ba541",
   "metadata": {},
   "outputs": [],
   "source": [
    "youtube_30_df=youtube_30_df[youtube_30_df['engagement_rate']<9.338507725109846]\n",
    "spotify_youtube_df_31_90=spotify_youtube_df_31_90[spotify_youtube_df_31_90['engagement_rate']<4.602401258613792]\n",
    "spotify_youtube_df_91_365=spotify_youtube_df_91_365[spotify_youtube_df_91_365['engagement_rate']<4.253191569584401]\n",
    "spotify_youtube_df_366_more=spotify_youtube_df_366_more[spotify_youtube_df_366_more['engagement_rate']<2.251193229196198]"
   ]
  },
  {
   "cell_type": "code",
   "execution_count": 116,
   "id": "9dfca2c7",
   "metadata": {},
   "outputs": [],
   "source": [
    "youtube_30_df_x = youtube_30_df.drop('engagement_rate',axis=1)\n",
    "youtube_30_df_y = youtube_30_df['engagement_rate']\n",
    "\n",
    "spotify_youtube_df_31_90_x = spotify_youtube_df_31_90.drop('engagement_rate',axis=1)\n",
    "spotify_youtube_df_31_90_y = spotify_youtube_df_31_90['engagement_rate']\n",
    "\n",
    "spotify_youtube_df_91_365_x = spotify_youtube_df_91_365.drop('engagement_rate',axis=1)\n",
    "spotify_youtube_df_91_365_y = spotify_youtube_df_91_365['engagement_rate']\n",
    "\n",
    "spotify_youtube_df_366_more_x = spotify_youtube_df_366_more.drop('engagement_rate',axis=1)\n",
    "spotify_youtube_df_366_more_y = spotify_youtube_df_366_more['engagement_rate']"
   ]
  },
  {
   "cell_type": "code",
   "execution_count": 117,
   "id": "cbabb0f4",
   "metadata": {},
   "outputs": [],
   "source": [
    "spotify_youtube_30X_train_val, spotify_youtube_30X_test, spotify_youtube_30y_train_val, spotify_youtube_30y_test = train_test_split(youtube_30_df_x, youtube_30_df_y, test_size=0.25, random_state=44)\n",
    "spotify_youtube_30X_train, spotify_youtube_30X_val, spotify_youtube_30y_train, spotify_youtube_30y_val = train_test_split(spotify_youtube_30X_train_val, spotify_youtube_30y_train_val, test_size=0.20, random_state=44)"
   ]
  },
  {
   "cell_type": "code",
   "execution_count": 118,
   "id": "09c7a02f",
   "metadata": {},
   "outputs": [],
   "source": [
    "#spotify_youtube_30X_train_val, spotify_youtube_30X_test, spotify_youtube_30y_train_val, spotify_youtube_30y_test = train_test_split(youtube_30_df_x, youtube_30_df_y, test_size=0.25, random_state=42)\n",
    "spotify_youtube_df_31_90X_train, spotify_youtube_df_31_90X_test, spotify_youtube_df_31_90y_train, spotify_youtube_df_31_90y_test = train_test_split(spotify_youtube_df_31_90_x, spotify_youtube_df_31_90_y, test_size=0.25, random_state=42)\n",
    "spotify_youtube_df_91_365X_train, spotify_youtube_df_91_365X_test, spotify_youtube_df_91_365y_train, spotify_youtube_df_91_365y_test = train_test_split(spotify_youtube_df_91_365_x, spotify_youtube_df_91_365_y, test_size=0.25, random_state=42)\n",
    "#spotify_youtube_30X_train, spotify_youtube_30X_val, spotify_youtube_30y_train, spotify_youtube_30y_val = train_test_split(spotify_youtube_30X_train_val, spotify_youtube_30y_train_val, test_size=0.20, random_state=42)"
   ]
  },
  {
   "cell_type": "code",
   "execution_count": 119,
   "id": "36991900",
   "metadata": {},
   "outputs": [],
   "source": [
    "# Dados de treino \n",
    "sy_x_train=pd.concat([spotify_youtube_30X_train,spotify_youtube_df_31_90X_train,spotify_youtube_df_91_365X_train,spotify_youtube_df_366_more_x])\n",
    "sy_y_train=pd.concat([spotify_youtube_30y_train,spotify_youtube_df_31_90y_train,spotify_youtube_df_91_365y_train,spotify_youtube_df_366_more_y])\n",
    "\n",
    "# Normalização do treino\n",
    "scaler_all = MinMaxScaler()\n",
    "sy_x_train_scaled = scaler_all.fit_transform(sy_x_train)"
   ]
  },
  {
   "cell_type": "code",
   "execution_count": 120,
   "id": "14460c51",
   "metadata": {},
   "outputs": [],
   "source": [
    "# Normalização do treino de 30 dias\n",
    "sy_30_x_train_scaled = scaler_all.transform(spotify_youtube_30X_train)"
   ]
  },
  {
   "cell_type": "code",
   "execution_count": 121,
   "id": "22de4115",
   "metadata": {},
   "outputs": [],
   "source": [
    "# Dados para treinar o modelo com dados de 0 a 90 dias\n",
    "sy_90_x_train=pd.concat([spotify_youtube_30X_train,spotify_youtube_df_31_90X_train])\n",
    "sy_90_y_train=pd.concat([spotify_youtube_30y_train,spotify_youtube_df_31_90y_train])\n",
    "\n",
    "# Normalização do treino de 90 dias\n",
    "sy_90_x_train_scaled = scaler_all.transform(sy_90_x_train)"
   ]
  },
  {
   "cell_type": "code",
   "execution_count": 122,
   "id": "f8e59747",
   "metadata": {},
   "outputs": [],
   "source": [
    "# Dados para treinar o modelo com dados de 0 a 365 dias\n",
    "sy_365_x_train=pd.concat([spotify_youtube_30X_train,spotify_youtube_df_31_90X_train,spotify_youtube_df_91_365X_train])\n",
    "sy_365_y_train=pd.concat([spotify_youtube_30y_train,spotify_youtube_df_31_90y_train,spotify_youtube_df_91_365y_train])\n",
    "\n",
    "# Normalização do treino de 90 dias\n",
    "sy_365_x_train_scaled = scaler_all.transform(sy_365_x_train)"
   ]
  },
  {
   "cell_type": "code",
   "execution_count": 123,
   "id": "9f4c4ef3",
   "metadata": {},
   "outputs": [],
   "source": [
    "# Para testar o desempenho do modelo com videos com ate 30 dias\n",
    "sy_30_x_test=spotify_youtube_30X_test\n",
    "sy_30_y_test=spotify_youtube_30y_test\n",
    "\n",
    "# validação de 30 dias\n",
    "sy_30_x_val=spotify_youtube_30X_val\n",
    "sy_30_y_val=spotify_youtube_30y_val\n",
    "\n",
    "# Para testar o desempenho do modelo com videos com ate 90 dias\n",
    "sy_90_x_test=pd.concat([spotify_youtube_30X_test,spotify_youtube_df_31_90X_test])\n",
    "sy_90_y_test=pd.concat([spotify_youtube_30y_test,spotify_youtube_df_31_90y_test])\n",
    "\n",
    "# Para testar o desempenho do modelo com videos com ate 1 ano\n",
    "sy_365_x_test=pd.concat([spotify_youtube_30X_test,spotify_youtube_df_31_90X_test,spotify_youtube_df_91_365X_test])\n",
    "sy_365_y_test=pd.concat([spotify_youtube_30y_test,spotify_youtube_df_31_90y_test,spotify_youtube_df_91_365y_test])"
   ]
  },
  {
   "cell_type": "code",
   "execution_count": 124,
   "id": "c7609691",
   "metadata": {},
   "outputs": [],
   "source": [
    "# Normalizção dos dados de teste de 30 dias\n",
    "sy_30_x_test_scaled = scaler_all.transform(sy_30_x_test)\n",
    "\n",
    "# Normalizção dos dados de teste de 90 dias\n",
    "sy_90_x_test_scaled = scaler_all.transform(sy_90_x_test)\n",
    "\n",
    "# Normalizção dos dados de teste de 365 dias\n",
    "sy_365_x_test_scaled = scaler_all.transform(sy_365_x_test)\n",
    "\n",
    "# Normalização dos dados de validação de 30 dias\n",
    "sy_30_x_val_scaled = scaler_all.transform(sy_30_x_val)"
   ]
  },
  {
   "cell_type": "markdown",
   "id": "66effa8b",
   "metadata": {},
   "source": [
    "# Experimento"
   ]
  },
  {
   "cell_type": "code",
   "execution_count": 125,
   "id": "5ee4500c",
   "metadata": {},
   "outputs": [],
   "source": [
    "caminho_modelos = \"Modelos/best_xgb_model_grid.pkl\"\n",
    "if os.path.exists(caminho_modelos):\n",
    "    modelo_xgb = joblib.load(caminho_modelos)"
   ]
  },
  {
   "cell_type": "code",
   "execution_count": 59,
   "id": "208a2fa9",
   "metadata": {},
   "outputs": [],
   "source": [
    "predicoes_30 = modelo_xgb.predict(sy_30_x_test_scaled)\n"
   ]
  },
  {
   "cell_type": "code",
   "execution_count": 62,
   "id": "f4bdc81a",
   "metadata": {},
   "outputs": [
    {
     "name": "stdout",
     "output_type": "stream",
     "text": [
      "[8.31794872e-01 7.27994478e-01 1.00000000e+00 8.69093299e-01\n",
      " 3.34719335e-02 3.61435041e-02 3.29000000e-06 6.25064149e-02\n",
      " 5.37840565e-01 4.63768577e-01 3.12998709e-02 7.94527714e-04\n",
      " 3.14465409e-03 1.00000000e+00 0.00000000e+00 0.00000000e+00\n",
      " 0.00000000e+00]\n"
     ]
    }
   ],
   "source": [
    "linha_especifica = sy_30_x_test_scaled[0]  # Substitua 0 pelo índice da linha desejada\n",
    "print(linha_especifica)"
   ]
  },
  {
   "cell_type": "code",
   "execution_count": 81,
   "id": "bae6f157",
   "metadata": {},
   "outputs": [
    {
     "name": "stdout",
     "output_type": "stream",
     "text": [
      "Previsão para a linha selecionada: [2.565672]\n"
     ]
    }
   ],
   "source": [
    "# Seleciona a linha específica (substitua 0 pelo índice desejado)\n",
    "linha_especifica = sy_30_x_test_scaled[0].reshape(1, -1)  # Reshape para manter o formato esperado pelo modelo\n",
    "\n",
    "# Faz a previsão para a linha selecionada\n",
    "predicao_linha = modelo_xgb.predict(linha_especifica)\n",
    "\n",
    "# Exibe o resultado da previsão\n",
    "print(f\"Previsão para a linha selecionada: {predicao_linha}\")"
   ]
  },
  {
   "cell_type": "code",
   "execution_count": 193,
   "id": "3b056a6f",
   "metadata": {},
   "outputs": [
    {
     "name": "stdout",
     "output_type": "stream",
     "text": [
      "Previsão para a linha alterada: [4.3426538 3.5441756 3.631095  3.070981  2.417306  2.417306  2.27854\n",
      " 2.265109  2.265109  2.2524772 2.2524772 2.2524772 2.2524772]\n"
     ]
    }
   ],
   "source": [
    "# Localiza a linha original no DataFrame antes da normalização\n",
    "indice_linha = 4\n",
    "linha_original = sy_30_x_test.iloc[indice_linha].copy()\n",
    "linhas=[]\n",
    "dias=[7,14,21,28,35,42,49,56,63,70,77,84,91]\n",
    "for day in dias:\n",
    "    # Altera o valor da coluna 'dias_na_plataforma'\n",
    "    novo_valor_dias = day  # Substitua pelo novo valor desejado\n",
    "    linha_original['dias_na_plataforma'] = novo_valor_dias\n",
    "\n",
    "    # Adiciona a linha alterada à lista\n",
    "    linhas.append(linha_original.copy())\n",
    "\n",
    "\n",
    "linhas_df = pd.DataFrame(linhas, columns=sy_30_x_test.columns)\n",
    "\n",
    "# Normaliza a linha alterada\n",
    "linha_normalizada = scaler_all.transform(linhas_df)\n",
    "\n",
    "# Faz a previsão para a linha alterada\n",
    "predicao_linha_alterada = modelo_xgb.predict(linha_normalizada)\n",
    "\n",
    "# Exibe o resultado da previsão\n",
    "print(f\"Previsão para a linha alterada: {predicao_linha_alterada}\")"
   ]
  },
  {
   "cell_type": "code",
   "execution_count": 194,
   "id": "c95baa6c",
   "metadata": {},
   "outputs": [
    {
     "data": {
      "image/png": "[encoded data removed]",
      "text/plain": [
       "<Figure size 1000x600 with 1 Axes>"
      ]
     },
     "metadata": {},
     "output_type": "display_data"
    }
   ],
   "source": [
    "# Supondo que predicao_linha_alterada contém as previsões para diferentes valores de 'dias_na_plataforma'\n",
    "# Dias correspondentes às previsões\n",
    "\n",
    "# Criação do gráfico de linhas\n",
    "plt.figure(figsize=(10, 6))\n",
    "plt.plot(dias, predicao_linha_alterada, marker='o', linestyle='-', color='b', label='Predição')\n",
    "\n",
    "# Configurações do gráfico\n",
    "plt.title('Predição vs Dias na Plataforma', fontsize=14)\n",
    "plt.xlabel('Dias na Plataforma', fontsize=12)\n",
    "plt.ylabel('Predição', fontsize=12)\n",
    "plt.grid(True)\n",
    "plt.legend()\n",
    "plt.tight_layout()\n",
    "\n",
    "# Exibe o gráfico\n",
    "plt.show()"
   ]
  },
  {
   "cell_type": "code",
   "execution_count": 216,
   "id": "7df70621",
   "metadata": {},
   "outputs": [],
   "source": [
    "class EngajamentPredictor:\n",
    "    def __init__(self, model_name, scaler):\n",
    "        self.model = self.select_model(model_name)\n",
    "        self.scaler = scaler\n",
    "\n",
    "    def select_model(self, model_name):\n",
    "        if model_name == 'linear_regression':\n",
    "            return joblib.load(\"Modelos/best_Linear_Regressor_model_grid.pkl\")\n",
    "        elif model_name == 'random_forest':\n",
    "            return joblib.load(\"Modelos/best_rf_model_grid.pkl\")\n",
    "        elif model_name == 'mlp':\n",
    "            return joblib.load(\"Modelos/best_mlp_model_grid.pkl\")\n",
    "        elif model_name == 'xgboost':\n",
    "            return joblib.load(\"Modelos/best_xgb_model_grid.pkl\")\n",
    "        else:\n",
    "            raise ValueError(\"Modelo não suportado. Escolha entre 'linear_regression', 'random_forest', 'mlp' ou 'xgboost'.\")\n",
    "        \n",
    "    def predict(self, data, numeros_semanas):\n",
    "        dias = [i for i in range(7, 7 * numeros_semanas + 1, 7)]  # Gera uma lista de dias com base no número de semanas\n",
    "        dias_prev=[]\n",
    "        for day in dias:\n",
    "            # Altera o valor da coluna 'dias_na_plataforma'\n",
    "            novo_valor_dias = day  # Substitua pelo novo valor desejado\n",
    "            data['dias_na_plataforma'] = novo_valor_dias\n",
    "\n",
    "            # Adiciona a linha alterada à lista\n",
    "            dias_prev.append(data.copy())\n",
    "        \n",
    "        dias_df = pd.DataFrame(dias_prev, columns=sy_30_x_test.columns)\n",
    "\n",
    "        # Normaliza os dados de entrada\n",
    "        data_scaled = self.scaler.transform(dias_df)\n",
    "        # Faz a previsão usando o modelo\n",
    "        predictions = self.model.predict(data_scaled)\n",
    "        #print(f\"Previsão para a linha alterada: {predictions}\")\n",
    "\n",
    "        # Exibe o resultado da previsão\n",
    "        self.plot_predictions(dias, predictions)\n",
    "        return predictions\n",
    "    \n",
    "    def plot_predictions(self, dias, predictions):\n",
    "        # Converte os dias para semanas\n",
    "        semanas = [dia // 7 for dia in dias]\n",
    "\n",
    "        # Criação do gráfico de linhas\n",
    "        plt.figure(figsize=(10, 6))\n",
    "        plt.plot(semanas, predictions, marker='o', linestyle='-', color='b', label='Predição')\n",
    "\n",
    "        # Configurações do gráfico\n",
    "        plt.title('Engajamento Semanal Previsto', fontsize=14)\n",
    "        plt.xlabel('Semanas na Plataforma', fontsize=12)\n",
    "        plt.ylabel('Predição', fontsize=12)\n",
    "        plt.grid(True)\n",
    "        plt.legend()\n",
    "        plt.tight_layout()\n",
    "\n",
    "        # Exibe o gráfico\n",
    "        plt.show()"
   ]
  },
  {
   "cell_type": "code",
   "execution_count": 215,
   "id": "ce050b56",
   "metadata": {},
   "outputs": [
    {
     "data": {
      "text/plain": [
       "[1, 2, 3, 4, 5, 6, 7, 8, 9, 10, 11, 12]"
      ]
     },
     "execution_count": 215,
     "metadata": {},
     "output_type": "execute_result"
    }
   ],
   "source": [
    "numeros_semanas=12\n",
    "dias=[i for i in range(7, 7 * numeros_semanas + 1, 7)]\n",
    "[dia // 7 for dia in dias]"
   ]
  },
  {
   "cell_type": "code",
   "execution_count": 217,
   "id": "554a8c41",
   "metadata": {},
   "outputs": [
    {
     "data": {
      "image/png": "[encoded data removed]",
      "text/plain": [
       "<Figure size 1000x600 with 1 Axes>"
      ]
     },
     "metadata": {},
     "output_type": "display_data"
    }
   ],
   "source": [
    "ep=EngajamentPredictor(model_name='xgboost', scaler=scaler_all)\n",
    "predictions = ep.predict(data=sy_30_x_test.iloc[0].copy(), numeros_semanas=12)\n"
   ]
  }
 ],
 "metadata": {
  "kernelspec": {
   "display_name": ".venv",
   "language": "python",
   "name": "python3"
  },
  "language_info": {
   "codemirror_mode": {
    "name": "ipython",
    "version": 3
   },
   "file_extension": ".py",
   "mimetype": "text/x-python",
   "name": "python",
   "nbconvert_exporter": "python",
   "pygments_lexer": "ipython3",
   "version": "3.12.10"
  }
 },
 "nbformat": 4,
 "nbformat_minor": 5
}
